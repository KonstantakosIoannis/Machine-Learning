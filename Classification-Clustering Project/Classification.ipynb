{
 "cells": [
  {
   "cell_type": "markdown",
   "id": "47bbb487-4362-4876-9a33-5ea2df2594d8",
   "metadata": {},
   "source": [
    "### CLASSIFICATION"
   ]
  },
  {
   "cell_type": "code",
   "execution_count": 1,
   "id": "8d52b8d0-dd09-47fa-93c4-0198b978bb47",
   "metadata": {},
   "outputs": [],
   "source": [
    "import numpy as np\n",
    "import pandas as pd\n",
    "import csv\n",
    "import seaborn\n",
    "from matplotlib import pyplot as plt\n",
    "from matplotlib.ticker import StrMethodFormatter\n",
    "plt.style.use('dark_background')\n",
    "from sklearn.model_selection import train_test_split\n",
    "from sklearn.linear_model import LogisticRegression\n",
    "from sklearn.preprocessing import StandardScaler\n",
    "from sklearn.preprocessing import MinMaxScaler\n",
    "from sklearn.metrics import classification_report\n",
    "from sklearn.metrics import confusion_matrix\n",
    "from sklearn.neighbors import KNeighborsClassifier\n",
    "from sklearn.tree import DecisionTreeClassifier\n",
    "from sklearn.ensemble import RandomForestClassifier\n",
    "from sklearn.svm import SVC\n",
    "from sklearn.cluster import KMeans\n",
    "from sklearn.cluster import DBSCAN"
   ]
  },
  {
   "cell_type": "code",
   "execution_count": 4,
   "id": "3545c11f-1890-4edb-a188-06d74517a5b1",
   "metadata": {},
   "outputs": [],
   "source": [
    "#subset for faster performance\n",
    "mydata = pd.read_csv('accidents.csv', nrows=10000) "
   ]
  },
  {
   "cell_type": "markdown",
   "id": "53e724c7-637a-469b-9b27-3c3f13bbb577",
   "metadata": {},
   "source": [
    "##### Train Test Split     33-66"
   ]
  },
  {
   "cell_type": "code",
   "execution_count": 6,
   "id": "a2af597d-8dff-4721-97b4-a8540a55a315",
   "metadata": {},
   "outputs": [],
   "source": [
    "mydata=mydata.drop(['ID','Start_Lat','Start_Lng','End_Lat','Start_Time','End_Lng','End_Time','Precipitation(in)','Description','Number','Street','Side','City','Country','State','Zipcode','County','Timezone','Airport_Code','Weather_Timestamp','Temperature(F)','Wind_Chill(F)','Wind_Direction','Amenity','Bump','Crossing','Give_Way','Junction','Traffic_Calming','Traffic_Signal','No_Exit','Railway','Turning_Loop','Roundabout','Station','Stop','Sunrise_Sunset','Civil_Twilight','Nautical_Twilight','Astronomical_Twilight'],axis=1)"
   ]
  },
  {
   "cell_type": "code",
   "execution_count": 7,
   "id": "20e90148-41e8-48d3-8969-e46a23f1e2ee",
   "metadata": {},
   "outputs": [],
   "source": [
    "mydata=mydata.drop('Weather_Condition',axis=1)"
   ]
  },
  {
   "cell_type": "code",
   "execution_count": 8,
   "id": "96bf6971-2d9e-42fe-bac1-fbf1f62442b1",
   "metadata": {},
   "outputs": [],
   "source": [
    "mydata=mydata.dropna() "
   ]
  },
  {
   "cell_type": "code",
   "execution_count": 9,
   "id": "d7b3c662-8497-4767-a174-419ed4c136ed",
   "metadata": {},
   "outputs": [],
   "source": [
    "myVal=mydata['Severity']"
   ]
  },
  {
   "cell_type": "code",
   "execution_count": 10,
   "id": "12490caf-49f8-4909-b398-ce9d284cdf5d",
   "metadata": {},
   "outputs": [],
   "source": [
    "X_train, X_test, y_train, y_test = train_test_split(mydata, myVal, test_size=0.33, random_state=42)"
   ]
  },
  {
   "cell_type": "markdown",
   "id": "6d5c406e-9dc0-487e-890a-8daaaaabad35",
   "metadata": {},
   "source": [
    "#### LOGISTIC REGRESSION"
   ]
  },
  {
   "cell_type": "code",
   "execution_count": 11,
   "id": "7889463d-4963-4c47-bae0-bf974c92730a",
   "metadata": {},
   "outputs": [],
   "source": [
    "machine = LogisticRegression()"
   ]
  },
  {
   "cell_type": "code",
   "execution_count": 12,
   "id": "e3f105a9-b286-4cc1-a274-45cfaecf74e5",
   "metadata": {},
   "outputs": [
    {
     "name": "stderr",
     "output_type": "stream",
     "text": [
      "C:\\Users\\konst\\anaconda3\\lib\\site-packages\\sklearn\\linear_model\\_logistic.py:814: ConvergenceWarning: lbfgs failed to converge (status=1):\n",
      "STOP: TOTAL NO. of ITERATIONS REACHED LIMIT.\n",
      "\n",
      "Increase the number of iterations (max_iter) or scale the data as shown in:\n",
      "    https://scikit-learn.org/stable/modules/preprocessing.html\n",
      "Please also refer to the documentation for alternative solver options:\n",
      "    https://scikit-learn.org/stable/modules/linear_model.html#logistic-regression\n",
      "  n_iter_i = _check_optimize_result(\n"
     ]
    },
    {
     "data": {
      "text/plain": [
       "LogisticRegression()"
      ]
     },
     "execution_count": 12,
     "metadata": {},
     "output_type": "execute_result"
    }
   ],
   "source": [
    "machine.fit(X_train,y_train)"
   ]
  },
  {
   "cell_type": "code",
   "execution_count": 13,
   "id": "82d6c5ba-404c-4797-a036-982412d9a707",
   "metadata": {},
   "outputs": [],
   "source": [
    "predictions = machine.predict(X_test)"
   ]
  },
  {
   "cell_type": "code",
   "execution_count": 14,
   "id": "af4c2cab-1236-4b49-b8ac-1b9627c59318",
   "metadata": {},
   "outputs": [
    {
     "name": "stdout",
     "output_type": "stream",
     "text": [
      "              precision    recall  f1-score   support\n",
      "\n",
      "           2       1.00      1.00      1.00      2265\n",
      "           3       1.00      1.00      1.00       315\n",
      "           4       1.00      1.00      1.00       149\n",
      "\n",
      "    accuracy                           1.00      2729\n",
      "   macro avg       1.00      1.00      1.00      2729\n",
      "weighted avg       1.00      1.00      1.00      2729\n",
      "\n"
     ]
    }
   ],
   "source": [
    "print(classification_report(y_test,predictions))"
   ]
  },
  {
   "cell_type": "code",
   "execution_count": 15,
   "id": "b11d8d7c-867d-4e31-a827-5cc482cf5c14",
   "metadata": {},
   "outputs": [
    {
     "name": "stdout",
     "output_type": "stream",
     "text": [
      "[[2265    0    0]\n",
      " [   0  315    0]\n",
      " [   0    0  149]]\n"
     ]
    }
   ],
   "source": [
    "print(confusion_matrix(y_test,predictions))"
   ]
  },
  {
   "cell_type": "markdown",
   "id": "4b466022-4444-4058-8dff-aae76c2c0d95",
   "metadata": {},
   "source": [
    "#### K_NEAREST"
   ]
  },
  {
   "cell_type": "code",
   "execution_count": 32,
   "id": "470f330c-21c4-4195-9081-413ada288a15",
   "metadata": {},
   "outputs": [],
   "source": [
    "#may cause time error if you use the whole dataset"
   ]
  },
  {
   "cell_type": "code",
   "execution_count": 16,
   "id": "0232f726-1d3d-4274-9110-23f1c910cf0b",
   "metadata": {},
   "outputs": [],
   "source": [
    " machine = KNeighborsClassifier(n_neighbors = 15)"
   ]
  },
  {
   "cell_type": "code",
   "execution_count": 17,
   "id": "9cc44560-8c1a-403e-8c8c-1d1f28f7452a",
   "metadata": {},
   "outputs": [
    {
     "data": {
      "text/plain": [
       "KNeighborsClassifier(n_neighbors=15)"
      ]
     },
     "execution_count": 17,
     "metadata": {},
     "output_type": "execute_result"
    }
   ],
   "source": [
    " machine.fit(X_train,y_train)"
   ]
  },
  {
   "cell_type": "code",
   "execution_count": 18,
   "id": "e8fe6e75-533b-4fb5-ae26-13c649ef2802",
   "metadata": {},
   "outputs": [],
   "source": [
    " predictions  = machine.predict(X_test)"
   ]
  },
  {
   "cell_type": "code",
   "execution_count": 19,
   "id": "02956b30-b2f1-442e-9ac9-2abc2eaf6623",
   "metadata": {},
   "outputs": [
    {
     "name": "stdout",
     "output_type": "stream",
     "text": [
      "              precision    recall  f1-score   support\n",
      "\n",
      "           2       0.85      1.00      0.92      2265\n",
      "           3       0.32      0.05      0.09       315\n",
      "           4       0.69      0.07      0.13       149\n",
      "\n",
      "    accuracy                           0.84      2729\n",
      "   macro avg       0.62      0.38      0.38      2729\n",
      "weighted avg       0.78      0.84      0.78      2729\n",
      "\n"
     ]
    }
   ],
   "source": [
    " print(classification_report(y_test,predictions))"
   ]
  },
  {
   "cell_type": "code",
   "execution_count": 20,
   "id": "a352395b-310a-4f36-9f03-2b853e35e4d4",
   "metadata": {},
   "outputs": [
    {
     "name": "stdout",
     "output_type": "stream",
     "text": [
      "[[2262    0    3]\n",
      " [ 296   17    2]\n",
      " [ 102   36   11]]\n"
     ]
    }
   ],
   "source": [
    " print(confusion_matrix(y_test,predictions))"
   ]
  },
  {
   "cell_type": "markdown",
   "id": "111850e2-c976-40a0-8c9f-e1ceb1a238b1",
   "metadata": {},
   "source": [
    "#may cause time error if you use the whole dataset#### DECISION TREE"
   ]
  },
  {
   "cell_type": "code",
   "execution_count": 22,
   "id": "5b2b5c9f-90d1-4a32-aac7-e39d9a12044c",
   "metadata": {},
   "outputs": [],
   "source": [
    "machine = DecisionTreeClassifier()"
   ]
  },
  {
   "cell_type": "code",
   "execution_count": 23,
   "id": "0ba24352-ecac-445c-9548-6a5088c5963a",
   "metadata": {},
   "outputs": [
    {
     "data": {
      "text/plain": [
       "DecisionTreeClassifier()"
      ]
     },
     "execution_count": 23,
     "metadata": {},
     "output_type": "execute_result"
    }
   ],
   "source": [
    "machine.fit(X_train,y_train)"
   ]
  },
  {
   "cell_type": "code",
   "execution_count": 24,
   "id": "d554722a-c3e3-465e-a9fd-8c0d828a74ab",
   "metadata": {},
   "outputs": [],
   "source": [
    "predictions = machine.predict(X_test)"
   ]
  },
  {
   "cell_type": "code",
   "execution_count": 25,
   "id": "55e3ab0e-7a30-4606-ab2e-d5caab490cb8",
   "metadata": {},
   "outputs": [
    {
     "name": "stdout",
     "output_type": "stream",
     "text": [
      "              precision    recall  f1-score   support\n",
      "\n",
      "           2       1.00      1.00      1.00      2265\n",
      "           3       1.00      1.00      1.00       315\n",
      "           4       1.00      1.00      1.00       149\n",
      "\n",
      "    accuracy                           1.00      2729\n",
      "   macro avg       1.00      1.00      1.00      2729\n",
      "weighted avg       1.00      1.00      1.00      2729\n",
      "\n"
     ]
    }
   ],
   "source": [
    "print(classification_report(y_test,predictions))"
   ]
  },
  {
   "cell_type": "code",
   "execution_count": 26,
   "id": "3409282d-4eeb-4d72-a633-d3caff0c8090",
   "metadata": {},
   "outputs": [
    {
     "name": "stdout",
     "output_type": "stream",
     "text": [
      "[[2265    0    0]\n",
      " [   0  315    0]\n",
      " [   0    0  149]]\n"
     ]
    }
   ],
   "source": [
    "print(confusion_matrix(y_test,predictions))"
   ]
  },
  {
   "cell_type": "markdown",
   "id": "1af3d788-6eee-4de7-8766-35bdbc4f4863",
   "metadata": {},
   "source": [
    "#### RANDOM FOREST"
   ]
  },
  {
   "cell_type": "code",
   "execution_count": 33,
   "id": "ffb2de30-02a1-448b-8731-083a4db4f5f6",
   "metadata": {},
   "outputs": [],
   "source": [
    "#may cause time error if you use the whole dataset"
   ]
  },
  {
   "cell_type": "code",
   "execution_count": 27,
   "id": "acfd9f90-f020-4a31-ab29-ac83b289583d",
   "metadata": {},
   "outputs": [],
   "source": [
    "machine = RandomForestClassifier(n_estimators=100)"
   ]
  },
  {
   "cell_type": "code",
   "execution_count": 28,
   "id": "f4071dc6-1afb-4a31-ac97-c38178950b29",
   "metadata": {},
   "outputs": [
    {
     "data": {
      "text/plain": [
       "RandomForestClassifier()"
      ]
     },
     "execution_count": 28,
     "metadata": {},
     "output_type": "execute_result"
    }
   ],
   "source": [
    "machine.fit(X_train, y_train)"
   ]
  },
  {
   "cell_type": "code",
   "execution_count": 29,
   "id": "64f9faee-2903-4e12-abad-10d8827fee0b",
   "metadata": {},
   "outputs": [],
   "source": [
    " predictions = machine.predict(X_test)"
   ]
  },
  {
   "cell_type": "code",
   "execution_count": 30,
   "id": "54d886d1-85f9-4fbe-a5b3-0cf02ada1ac8",
   "metadata": {},
   "outputs": [
    {
     "name": "stdout",
     "output_type": "stream",
     "text": [
      "              precision    recall  f1-score   support\n",
      "\n",
      "           2       1.00      1.00      1.00      2265\n",
      "           3       1.00      1.00      1.00       315\n",
      "           4       1.00      1.00      1.00       149\n",
      "\n",
      "    accuracy                           1.00      2729\n",
      "   macro avg       1.00      1.00      1.00      2729\n",
      "weighted avg       1.00      1.00      1.00      2729\n",
      "\n"
     ]
    }
   ],
   "source": [
    " print(classification_report(y_test,predictions))"
   ]
  },
  {
   "cell_type": "code",
   "execution_count": 31,
   "id": "6757ce7f-64e4-4a8c-a0d7-71633b4dd86d",
   "metadata": {},
   "outputs": [
    {
     "name": "stdout",
     "output_type": "stream",
     "text": [
      "[[2265    0    0]\n",
      " [   0  315    0]\n",
      " [   0    0  149]]\n"
     ]
    }
   ],
   "source": [
    " print(confusion_matrix(y_test,predictions))"
   ]
  },
  {
   "cell_type": "markdown",
   "id": "6f5d70a0-6547-475f-8a80-0e8b2c56021d",
   "metadata": {},
   "source": [
    " #### SVM "
   ]
  },
  {
   "cell_type": "code",
   "execution_count": 34,
   "id": "9a9a7a38-d202-4393-9c60-46978f627152",
   "metadata": {},
   "outputs": [],
   "source": [
    "machine = SVC()"
   ]
  },
  {
   "cell_type": "code",
   "execution_count": 39,
   "id": "c477554e-a326-47d5-9471-f826bb41d540",
   "metadata": {},
   "outputs": [],
   "source": [
    "#may cause time error if you use the whole dataset"
   ]
  },
  {
   "cell_type": "code",
   "execution_count": 35,
   "id": "3ddd43cf-bead-4d00-bdd6-736874729702",
   "metadata": {},
   "outputs": [
    {
     "data": {
      "text/plain": [
       "SVC()"
      ]
     },
     "execution_count": 35,
     "metadata": {},
     "output_type": "execute_result"
    }
   ],
   "source": [
    "machine.fit(X_train,y_train)"
   ]
  },
  {
   "cell_type": "code",
   "execution_count": 36,
   "id": "7ce2265d-2e16-4045-82b3-b006d505680a",
   "metadata": {},
   "outputs": [],
   "source": [
    "predictions = machine.predict(X_test)"
   ]
  },
  {
   "cell_type": "code",
   "execution_count": 37,
   "id": "7ecaa401-0013-4dba-96eb-6ad2af95007e",
   "metadata": {},
   "outputs": [
    {
     "name": "stdout",
     "output_type": "stream",
     "text": [
      "              precision    recall  f1-score   support\n",
      "\n",
      "           2       0.83      1.00      0.91      2265\n",
      "           3       0.00      0.00      0.00       315\n",
      "           4       0.00      0.00      0.00       149\n",
      "\n",
      "    accuracy                           0.83      2729\n",
      "   macro avg       0.28      0.33      0.30      2729\n",
      "weighted avg       0.69      0.83      0.75      2729\n",
      "\n"
     ]
    },
    {
     "name": "stderr",
     "output_type": "stream",
     "text": [
      "C:\\Users\\konst\\anaconda3\\lib\\site-packages\\sklearn\\metrics\\_classification.py:1318: UndefinedMetricWarning: Precision and F-score are ill-defined and being set to 0.0 in labels with no predicted samples. Use `zero_division` parameter to control this behavior.\n",
      "  _warn_prf(average, modifier, msg_start, len(result))\n",
      "C:\\Users\\konst\\anaconda3\\lib\\site-packages\\sklearn\\metrics\\_classification.py:1318: UndefinedMetricWarning: Precision and F-score are ill-defined and being set to 0.0 in labels with no predicted samples. Use `zero_division` parameter to control this behavior.\n",
      "  _warn_prf(average, modifier, msg_start, len(result))\n",
      "C:\\Users\\konst\\anaconda3\\lib\\site-packages\\sklearn\\metrics\\_classification.py:1318: UndefinedMetricWarning: Precision and F-score are ill-defined and being set to 0.0 in labels with no predicted samples. Use `zero_division` parameter to control this behavior.\n",
      "  _warn_prf(average, modifier, msg_start, len(result))\n"
     ]
    }
   ],
   "source": [
    "print(classification_report(y_test,predictions))"
   ]
  },
  {
   "cell_type": "code",
   "execution_count": 38,
   "id": "685288a4-8145-4815-8819-62a9f175d38b",
   "metadata": {},
   "outputs": [
    {
     "name": "stdout",
     "output_type": "stream",
     "text": [
      "[[2265    0    0]\n",
      " [ 315    0    0]\n",
      " [ 149    0    0]]\n"
     ]
    }
   ],
   "source": [
    "print(confusion_matrix(y_test,predictions))"
   ]
  }
 ],
 "metadata": {
  "kernelspec": {
   "display_name": "Python 3 (ipykernel)",
   "language": "python",
   "name": "python3"
  },
  "language_info": {
   "codemirror_mode": {
    "name": "ipython",
    "version": 3
   },
   "file_extension": ".py",
   "mimetype": "text/x-python",
   "name": "python",
   "nbconvert_exporter": "python",
   "pygments_lexer": "ipython3",
   "version": "3.9.13"
  }
 },
 "nbformat": 4,
 "nbformat_minor": 5
}
