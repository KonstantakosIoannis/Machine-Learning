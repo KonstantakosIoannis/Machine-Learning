{
 "cells": [
  {
   "cell_type": "code",
   "execution_count": 1,
   "id": "3bdbfd29-c7fd-429e-bcfe-4da83b813cf5",
   "metadata": {},
   "outputs": [],
   "source": [
    "import numpy\n",
    "import pandas\n",
    "import matplotlib\n",
    "import seaborn\n",
    "import sklearn"
   ]
  },
  {
   "cell_type": "code",
   "execution_count": 2,
   "id": "d6d0e4ce-4299-46c5-b84c-74df625de695",
   "metadata": {
    "tags": []
   },
   "outputs": [],
   "source": [
    "#conda install lightgbm"
   ]
  },
  {
   "cell_type": "code",
   "execution_count": 3,
   "id": "e9916ab0-39c0-4469-811d-a27970b4ba82",
   "metadata": {},
   "outputs": [],
   "source": [
    "import lightgbm\n",
    "#its a machine learnign model\n",
    "#description :A fast, distributed, high performance gradient boosting (GBDT, GBRT, GBM or MART)\n",
    "#framework based on decision tree algorithms, used for ranking, classification and many other machine learning tasks"
   ]
  },
  {
   "cell_type": "markdown",
   "id": "77b70a72-c838-4618-abc2-6e9ed315ec5e",
   "metadata": {},
   "source": [
    "We are going to analyse a dataset that is used to predict whether a patient is likely to get stroke \n",
    "based on the input parameters like gender, age, various diseases, and smoking status. \n",
    "Each row in the data provides relavant information about the patient."
   ]
  },
  {
   "cell_type": "markdown",
   "id": "50cd4fcf-f168-4a63-b44f-759c6077b056",
   "metadata": {},
   "source": [
    "In the first part of the notebook you will see some basic analysis of the set so as to get a better understanding of our data"
   ]
  },
  {
   "cell_type": "markdown",
   "id": "7ff28b0d-90d8-4f5d-a077-9098e51a7ec4",
   "metadata": {},
   "source": [
    "In this project, we will analyze a dataset that contains information about stroke risk factors for patients. The dataset includes demographic and health-related features, such as gender, age, smoking status, and medical history, which we will use to predict whether a patient is likely to suffer a stroke. Our analysis will involve exploring the data to understand its structure and distributions, identifying any patterns or correlations between the features, and performing machine learning techniques to create predictive models. Our ultimate goal is to present a set of findings that could help healthcare professionals to better understand stroke risks and to improve their prevention and treatment strategies."
   ]
  },
  {
   "cell_type": "code",
   "execution_count": 4,
   "id": "5ef2d2f0-2fd0-4e2e-ab8f-d62324beb2aa",
   "metadata": {},
   "outputs": [],
   "source": [
    "#SOS links\n",
    "#https://www.kaggle.com/datasets/fedesoriano/stroke-prediction-dataset\n",
    "#https://www.kaggle.com/code/bibekrai44/stroke-prediction-and-analysis"
   ]
  },
  {
   "cell_type": "markdown",
   "id": "7c8480af-e9c2-4bee-a862-f49ae0b4c3e2",
   "metadata": {},
   "source": [
    "# STROKE DATASET ANALYSIS"
   ]
  },
  {
   "cell_type": "code",
   "execution_count": 5,
   "id": "419837fd-fcd7-455f-a1ca-28b524e02b9e",
   "metadata": {},
   "outputs": [],
   "source": [
    "mydata = pandas.read_csv('stroke.csv')"
   ]
  },
  {
   "cell_type": "code",
   "execution_count": 6,
   "id": "0fcb90bc-1afe-471a-8986-60476fd3eb08",
   "metadata": {},
   "outputs": [
    {
     "data": {
      "text/html": [
       "<div>\n",
       "<style scoped>\n",
       "    .dataframe tbody tr th:only-of-type {\n",
       "        vertical-align: middle;\n",
       "    }\n",
       "\n",
       "    .dataframe tbody tr th {\n",
       "        vertical-align: top;\n",
       "    }\n",
       "\n",
       "    .dataframe thead th {\n",
       "        text-align: right;\n",
       "    }\n",
       "</style>\n",
       "<table border=\"1\" class=\"dataframe\">\n",
       "  <thead>\n",
       "    <tr style=\"text-align: right;\">\n",
       "      <th></th>\n",
       "      <th>id</th>\n",
       "      <th>gender</th>\n",
       "      <th>age</th>\n",
       "      <th>hypertension</th>\n",
       "      <th>heart_disease</th>\n",
       "      <th>ever_married</th>\n",
       "      <th>work_type</th>\n",
       "      <th>Residence_type</th>\n",
       "      <th>avg_glucose_level</th>\n",
       "      <th>bmi</th>\n",
       "      <th>smoking_status</th>\n",
       "      <th>stroke</th>\n",
       "    </tr>\n",
       "  </thead>\n",
       "  <tbody>\n",
       "    <tr>\n",
       "      <th>0</th>\n",
       "      <td>9046</td>\n",
       "      <td>Male</td>\n",
       "      <td>67.0</td>\n",
       "      <td>0</td>\n",
       "      <td>1</td>\n",
       "      <td>Yes</td>\n",
       "      <td>Private</td>\n",
       "      <td>Urban</td>\n",
       "      <td>228.69</td>\n",
       "      <td>36.6</td>\n",
       "      <td>formerly smoked</td>\n",
       "      <td>1</td>\n",
       "    </tr>\n",
       "    <tr>\n",
       "      <th>1</th>\n",
       "      <td>51676</td>\n",
       "      <td>Female</td>\n",
       "      <td>61.0</td>\n",
       "      <td>0</td>\n",
       "      <td>0</td>\n",
       "      <td>Yes</td>\n",
       "      <td>Self-employed</td>\n",
       "      <td>Rural</td>\n",
       "      <td>202.21</td>\n",
       "      <td>NaN</td>\n",
       "      <td>never smoked</td>\n",
       "      <td>1</td>\n",
       "    </tr>\n",
       "    <tr>\n",
       "      <th>2</th>\n",
       "      <td>31112</td>\n",
       "      <td>Male</td>\n",
       "      <td>80.0</td>\n",
       "      <td>0</td>\n",
       "      <td>1</td>\n",
       "      <td>Yes</td>\n",
       "      <td>Private</td>\n",
       "      <td>Rural</td>\n",
       "      <td>105.92</td>\n",
       "      <td>32.5</td>\n",
       "      <td>never smoked</td>\n",
       "      <td>1</td>\n",
       "    </tr>\n",
       "    <tr>\n",
       "      <th>3</th>\n",
       "      <td>60182</td>\n",
       "      <td>Female</td>\n",
       "      <td>49.0</td>\n",
       "      <td>0</td>\n",
       "      <td>0</td>\n",
       "      <td>Yes</td>\n",
       "      <td>Private</td>\n",
       "      <td>Urban</td>\n",
       "      <td>171.23</td>\n",
       "      <td>34.4</td>\n",
       "      <td>smokes</td>\n",
       "      <td>1</td>\n",
       "    </tr>\n",
       "    <tr>\n",
       "      <th>4</th>\n",
       "      <td>1665</td>\n",
       "      <td>Female</td>\n",
       "      <td>79.0</td>\n",
       "      <td>1</td>\n",
       "      <td>0</td>\n",
       "      <td>Yes</td>\n",
       "      <td>Self-employed</td>\n",
       "      <td>Rural</td>\n",
       "      <td>174.12</td>\n",
       "      <td>24.0</td>\n",
       "      <td>never smoked</td>\n",
       "      <td>1</td>\n",
       "    </tr>\n",
       "    <tr>\n",
       "      <th>...</th>\n",
       "      <td>...</td>\n",
       "      <td>...</td>\n",
       "      <td>...</td>\n",
       "      <td>...</td>\n",
       "      <td>...</td>\n",
       "      <td>...</td>\n",
       "      <td>...</td>\n",
       "      <td>...</td>\n",
       "      <td>...</td>\n",
       "      <td>...</td>\n",
       "      <td>...</td>\n",
       "      <td>...</td>\n",
       "    </tr>\n",
       "    <tr>\n",
       "      <th>5105</th>\n",
       "      <td>18234</td>\n",
       "      <td>Female</td>\n",
       "      <td>80.0</td>\n",
       "      <td>1</td>\n",
       "      <td>0</td>\n",
       "      <td>Yes</td>\n",
       "      <td>Private</td>\n",
       "      <td>Urban</td>\n",
       "      <td>83.75</td>\n",
       "      <td>NaN</td>\n",
       "      <td>never smoked</td>\n",
       "      <td>0</td>\n",
       "    </tr>\n",
       "    <tr>\n",
       "      <th>5106</th>\n",
       "      <td>44873</td>\n",
       "      <td>Female</td>\n",
       "      <td>81.0</td>\n",
       "      <td>0</td>\n",
       "      <td>0</td>\n",
       "      <td>Yes</td>\n",
       "      <td>Self-employed</td>\n",
       "      <td>Urban</td>\n",
       "      <td>125.20</td>\n",
       "      <td>40.0</td>\n",
       "      <td>never smoked</td>\n",
       "      <td>0</td>\n",
       "    </tr>\n",
       "    <tr>\n",
       "      <th>5107</th>\n",
       "      <td>19723</td>\n",
       "      <td>Female</td>\n",
       "      <td>35.0</td>\n",
       "      <td>0</td>\n",
       "      <td>0</td>\n",
       "      <td>Yes</td>\n",
       "      <td>Self-employed</td>\n",
       "      <td>Rural</td>\n",
       "      <td>82.99</td>\n",
       "      <td>30.6</td>\n",
       "      <td>never smoked</td>\n",
       "      <td>0</td>\n",
       "    </tr>\n",
       "    <tr>\n",
       "      <th>5108</th>\n",
       "      <td>37544</td>\n",
       "      <td>Male</td>\n",
       "      <td>51.0</td>\n",
       "      <td>0</td>\n",
       "      <td>0</td>\n",
       "      <td>Yes</td>\n",
       "      <td>Private</td>\n",
       "      <td>Rural</td>\n",
       "      <td>166.29</td>\n",
       "      <td>25.6</td>\n",
       "      <td>formerly smoked</td>\n",
       "      <td>0</td>\n",
       "    </tr>\n",
       "    <tr>\n",
       "      <th>5109</th>\n",
       "      <td>44679</td>\n",
       "      <td>Female</td>\n",
       "      <td>44.0</td>\n",
       "      <td>0</td>\n",
       "      <td>0</td>\n",
       "      <td>Yes</td>\n",
       "      <td>Govt_job</td>\n",
       "      <td>Urban</td>\n",
       "      <td>85.28</td>\n",
       "      <td>26.2</td>\n",
       "      <td>Unknown</td>\n",
       "      <td>0</td>\n",
       "    </tr>\n",
       "  </tbody>\n",
       "</table>\n",
       "<p>5110 rows × 12 columns</p>\n",
       "</div>"
      ],
      "text/plain": [
       "         id  gender   age  hypertension  heart_disease ever_married  \\\n",
       "0      9046    Male  67.0             0              1          Yes   \n",
       "1     51676  Female  61.0             0              0          Yes   \n",
       "2     31112    Male  80.0             0              1          Yes   \n",
       "3     60182  Female  49.0             0              0          Yes   \n",
       "4      1665  Female  79.0             1              0          Yes   \n",
       "...     ...     ...   ...           ...            ...          ...   \n",
       "5105  18234  Female  80.0             1              0          Yes   \n",
       "5106  44873  Female  81.0             0              0          Yes   \n",
       "5107  19723  Female  35.0             0              0          Yes   \n",
       "5108  37544    Male  51.0             0              0          Yes   \n",
       "5109  44679  Female  44.0             0              0          Yes   \n",
       "\n",
       "          work_type Residence_type  avg_glucose_level   bmi   smoking_status  \\\n",
       "0           Private          Urban             228.69  36.6  formerly smoked   \n",
       "1     Self-employed          Rural             202.21   NaN     never smoked   \n",
       "2           Private          Rural             105.92  32.5     never smoked   \n",
       "3           Private          Urban             171.23  34.4           smokes   \n",
       "4     Self-employed          Rural             174.12  24.0     never smoked   \n",
       "...             ...            ...                ...   ...              ...   \n",
       "5105        Private          Urban              83.75   NaN     never smoked   \n",
       "5106  Self-employed          Urban             125.20  40.0     never smoked   \n",
       "5107  Self-employed          Rural              82.99  30.6     never smoked   \n",
       "5108        Private          Rural             166.29  25.6  formerly smoked   \n",
       "5109       Govt_job          Urban              85.28  26.2          Unknown   \n",
       "\n",
       "      stroke  \n",
       "0          1  \n",
       "1          1  \n",
       "2          1  \n",
       "3          1  \n",
       "4          1  \n",
       "...      ...  \n",
       "5105       0  \n",
       "5106       0  \n",
       "5107       0  \n",
       "5108       0  \n",
       "5109       0  \n",
       "\n",
       "[5110 rows x 12 columns]"
      ]
     },
     "execution_count": 6,
     "metadata": {},
     "output_type": "execute_result"
    }
   ],
   "source": [
    "mydata "
   ]
  },
  {
   "cell_type": "code",
   "execution_count": 7,
   "id": "c724de70-34f9-451e-9617-89a156e14a91",
   "metadata": {},
   "outputs": [
    {
     "name": "stdout",
     "output_type": "stream",
     "text": [
      "<class 'pandas.core.frame.DataFrame'>\n",
      "RangeIndex: 5110 entries, 0 to 5109\n",
      "Data columns (total 12 columns):\n",
      " #   Column             Non-Null Count  Dtype  \n",
      "---  ------             --------------  -----  \n",
      " 0   id                 5110 non-null   int64  \n",
      " 1   gender             5110 non-null   object \n",
      " 2   age                5110 non-null   float64\n",
      " 3   hypertension       5110 non-null   int64  \n",
      " 4   heart_disease      5110 non-null   int64  \n",
      " 5   ever_married       5110 non-null   object \n",
      " 6   work_type          5110 non-null   object \n",
      " 7   Residence_type     5110 non-null   object \n",
      " 8   avg_glucose_level  5110 non-null   float64\n",
      " 9   bmi                4909 non-null   float64\n",
      " 10  smoking_status     5110 non-null   object \n",
      " 11  stroke             5110 non-null   int64  \n",
      "dtypes: float64(3), int64(4), object(5)\n",
      "memory usage: 479.2+ KB\n"
     ]
    }
   ],
   "source": [
    "mydata.info()"
   ]
  },
  {
   "cell_type": "code",
   "execution_count": 8,
   "id": "55cdab0e-c7a1-44f0-b6ec-337bfe685578",
   "metadata": {},
   "outputs": [
    {
     "data": {
      "text/plain": [
       "array(['formerly smoked', 'never smoked', 'smokes', 'Unknown'],\n",
       "      dtype=object)"
      ]
     },
     "execution_count": 8,
     "metadata": {},
     "output_type": "execute_result"
    }
   ],
   "source": [
    "mydata['smoking_status'].unique()"
   ]
  },
  {
   "cell_type": "code",
   "execution_count": 9,
   "id": "f585e72a-b566-421d-ad01-0147425a9197",
   "metadata": {},
   "outputs": [
    {
     "data": {
      "text/plain": [
       "Urban    2596\n",
       "Rural    2514\n",
       "Name: Residence_type, dtype: int64"
      ]
     },
     "execution_count": 9,
     "metadata": {},
     "output_type": "execute_result"
    }
   ],
   "source": [
    "mydata['Residence_type'].value_counts()"
   ]
  },
  {
   "cell_type": "code",
   "execution_count": 10,
   "id": "9b6b6d23-bfde-4adc-90a8-0576f194899a",
   "metadata": {},
   "outputs": [
    {
     "data": {
      "text/plain": [
       "0    4861\n",
       "1     249\n",
       "Name: stroke, dtype: int64"
      ]
     },
     "execution_count": 10,
     "metadata": {},
     "output_type": "execute_result"
    }
   ],
   "source": [
    "mydata['stroke'].value_counts()"
   ]
  },
  {
   "cell_type": "code",
   "execution_count": 11,
   "id": "99424a17-f5ff-4837-8045-5b61a3ecd02f",
   "metadata": {},
   "outputs": [
    {
     "data": {
      "text/plain": [
       "<AxesSubplot: xlabel='stroke', ylabel='count'>"
      ]
     },
     "execution_count": 11,
     "metadata": {},
     "output_type": "execute_result"
    },
    {
     "data": {
      "image/png": "[encoded data removed]",
      "text/plain": [
       "<Figure size 640x480 with 1 Axes>"
      ]
     },
     "metadata": {},
     "output_type": "display_data"
    }
   ],
   "source": [
    "seaborn.countplot(data = mydata, x = 'stroke',hue='gender') #y=count by default"
   ]
  },
  {
   "cell_type": "code",
   "execution_count": 12,
   "id": "34b1b348-6827-40a9-8fbb-5926e8261779",
   "metadata": {},
   "outputs": [
    {
     "data": {
      "text/plain": [
       "<AxesSubplot: xlabel='stroke', ylabel='count'>"
      ]
     },
     "execution_count": 12,
     "metadata": {},
     "output_type": "execute_result"
    },
    {
     "data": {
      "image/png": "[encoded data removed]",
      "text/plain": [
       "<Figure size 640x480 with 1 Axes>"
      ]
     },
     "metadata": {},
     "output_type": "display_data"
    }
   ],
   "source": [
    "seaborn.countplot(data = mydata, x = 'stroke',hue='work_type')"
   ]
  },
  {
   "cell_type": "code",
   "execution_count": null,
   "id": "996e8eed-899e-43ae-bbbf-620b9eb8b5b8",
   "metadata": {},
   "outputs": [],
   "source": []
  },
  {
   "cell_type": "code",
   "execution_count": null,
   "id": "3fbca296-aaa9-4f0c-8430-59544d69bc67",
   "metadata": {},
   "outputs": [],
   "source": []
  },
  {
   "cell_type": "code",
   "execution_count": null,
   "id": "bbd55f78-fc25-4001-82b2-f22616087fe2",
   "metadata": {},
   "outputs": [],
   "source": []
  },
  {
   "cell_type": "markdown",
   "id": "693b81ba-4355-4b44-b100-4c7139ddcd25",
   "metadata": {},
   "source": [
    "# MACHINE LEARNING (focused on : CROSS VALIDATION)"
   ]
  },
  {
   "cell_type": "markdown",
   "id": "0c5147db-ad28-4013-a358-c0b62c5b61b9",
   "metadata": {},
   "source": [
    "In this project, we will analyze a dataset that contains information about stroke risk factors for patients. The dataset includes demographic and health-related features, such as gender, age, smoking status, and medical history, which we will use to predict whether a patient is likely to suffer a stroke. Our analysis will involve exploring the data to understand its structure and distributions, identifying any patterns or correlations between the features, and performing machine learning techniques, including cross-validation methods, to create predictive models. Cross-validation techniques help to evaluate the performance of our models and ensure they are not overfitting to the training data. Our ultimate goal is to present a set of findings that could help healthcare professionals to better understand stroke risks and to improve their prevention and treatment strategies."
   ]
  },
  {
   "cell_type": "code",
   "execution_count": null,
   "id": "0a07c1fd-b106-4041-9015-c3408d2c499b",
   "metadata": {},
   "outputs": [],
   "source": []
  },
  {
   "cell_type": "markdown",
   "id": "7b4d47bf-2a38-4f49-8be2-757e64a0dd0d",
   "metadata": {},
   "source": [
    "Our main purpose is to discover cross validation\n",
    "we will make algos and test different cross validations\n",
    "the goal of every algo is unique to find the stroke column values. if somebody is going to have a stroke or not"
   ]
  },
  {
   "cell_type": "code",
   "execution_count": 13,
   "id": "4085e7b3-2f2a-41b0-a777-c8dc31f93d77",
   "metadata": {},
   "outputs": [],
   "source": [
    "#first we need to prepare our set"
   ]
  },
  {
   "cell_type": "code",
   "execution_count": 14,
   "id": "9ab54b66-daa0-4090-a0a7-21c6e762624b",
   "metadata": {},
   "outputs": [],
   "source": [
    "mydata[\"ever_married\"] = mydata[\"ever_married\"].replace(\"Yes\", True).replace(\"No\", False)#converting stirng to bool"
   ]
  },
  {
   "cell_type": "code",
   "execution_count": 15,
   "id": "b1467e60-8925-479e-ac64-0ea0dba3cc8d",
   "metadata": {},
   "outputs": [],
   "source": [
    "#converting all the other string Dtype values to category type. \n",
    "mydata[\"gender\"] = mydata[\"gender\"].astype(\"category\") #this could be also boolean\n",
    "mydata[\"smoking_status\"] = mydata[\"smoking_status\"].astype(\"category\")\n",
    "mydata[\"Residence_type\"] = mydata[\"Residence_type\"].astype(\"category\")\n",
    "mydata[\"work_type\"] = mydata[\"work_type\"].astype(\"category\")"
   ]
  },
  {
   "cell_type": "code",
   "execution_count": 16,
   "id": "f3f1939b-0160-408f-aa97-cf74f5e645bb",
   "metadata": {},
   "outputs": [
    {
     "name": "stdout",
     "output_type": "stream",
     "text": [
      "<class 'pandas.core.frame.DataFrame'>\n",
      "RangeIndex: 5110 entries, 0 to 5109\n",
      "Data columns (total 12 columns):\n",
      " #   Column             Non-Null Count  Dtype   \n",
      "---  ------             --------------  -----   \n",
      " 0   id                 5110 non-null   int64   \n",
      " 1   gender             5110 non-null   category\n",
      " 2   age                5110 non-null   float64 \n",
      " 3   hypertension       5110 non-null   int64   \n",
      " 4   heart_disease      5110 non-null   int64   \n",
      " 5   ever_married       5110 non-null   bool    \n",
      " 6   work_type          5110 non-null   category\n",
      " 7   Residence_type     5110 non-null   category\n",
      " 8   avg_glucose_level  5110 non-null   float64 \n",
      " 9   bmi                4909 non-null   float64 \n",
      " 10  smoking_status     5110 non-null   category\n",
      " 11  stroke             5110 non-null   int64   \n",
      "dtypes: bool(1), category(4), float64(3), int64(4)\n",
      "memory usage: 305.2 KB\n"
     ]
    }
   ],
   "source": [
    "mydata.info()#so now we have only numerical and category value types"
   ]
  },
  {
   "cell_type": "code",
   "execution_count": 17,
   "id": "e5c44048-e0ab-47cb-9b7f-0e1574bd837c",
   "metadata": {},
   "outputs": [],
   "source": [
    "#we will add a new column with id of the doctor who is treating the patient\n",
    "mydata[\"doctor_id\"] = numpy.random.randint(0, 8, size=len(mydata)) #id values[0-7]"
   ]
  },
  {
   "cell_type": "code",
   "execution_count": 18,
   "id": "e6cfee09-e34f-46e5-b350-7dde1a08354e",
   "metadata": {
    "tags": []
   },
   "outputs": [],
   "source": [
    "#mydata"
   ]
  },
  {
   "cell_type": "code",
   "execution_count": 19,
   "id": "1728b0ad-a9a7-4c6f-bdd3-37b405dc17c3",
   "metadata": {},
   "outputs": [],
   "source": [
    "#alpha = mydata.sample(n=500, random_state=529) this is making a sample of 500 random rows from my dataset\n",
    "#radom_state is just a generator you can use the same if you want to have the same sample\n",
    "#or not : alpha = mydata.sample(n=500)"
   ]
  },
  {
   "cell_type": "code",
   "execution_count": 20,
   "id": "a3c4d1ab-3bc1-4c66-a000-62b90a483e7f",
   "metadata": {},
   "outputs": [],
   "source": [
    "#we are spliting the set to train and holdout. of course there are many ways to do this. this one is just an example\n",
    "#the one think you have to remember is that statistics says that you MUST do it randomly\n",
    "\n",
    "holdout_ids = mydata.sample(n=500, random_state=529).index #random sample of 500 indexes!!! (not full row)"
   ]
  },
  {
   "cell_type": "code",
   "execution_count": 21,
   "id": "e6c5d6f0-6925-419e-8089-d1aff6a19160",
   "metadata": {},
   "outputs": [],
   "source": [
    "#my train set is the old mydata set without those 500 (holdout_ids)\n",
    "train = mydata.loc[~mydata.index.isin(holdout_ids)] #removies the rows with id in holdout\n",
    "train = train.sample(frac=1,random_state=529)#shuffling the rows (important in MACHINE LEARNING)\n",
    "train = train.sort_values(\"doctor_id\").reset_index(drop=True) #new sort new indexes!!\n",
    "#dont confuse the index of the DataFrame with the column 'id'"
   ]
  },
  {
   "cell_type": "code",
   "execution_count": 22,
   "id": "6f8c8c19-b800-48d3-843f-f605a370bf89",
   "metadata": {
    "tags": []
   },
   "outputs": [
    {
     "data": {
      "text/html": [
       "<div>\n",
       "<style scoped>\n",
       "    .dataframe tbody tr th:only-of-type {\n",
       "        vertical-align: middle;\n",
       "    }\n",
       "\n",
       "    .dataframe tbody tr th {\n",
       "        vertical-align: top;\n",
       "    }\n",
       "\n",
       "    .dataframe thead th {\n",
       "        text-align: right;\n",
       "    }\n",
       "</style>\n",
       "<table border=\"1\" class=\"dataframe\">\n",
       "  <thead>\n",
       "    <tr style=\"text-align: right;\">\n",
       "      <th></th>\n",
       "      <th>id</th>\n",
       "      <th>gender</th>\n",
       "      <th>age</th>\n",
       "      <th>hypertension</th>\n",
       "      <th>heart_disease</th>\n",
       "      <th>ever_married</th>\n",
       "      <th>work_type</th>\n",
       "      <th>Residence_type</th>\n",
       "      <th>avg_glucose_level</th>\n",
       "      <th>bmi</th>\n",
       "      <th>smoking_status</th>\n",
       "      <th>stroke</th>\n",
       "      <th>doctor_id</th>\n",
       "    </tr>\n",
       "  </thead>\n",
       "  <tbody>\n",
       "    <tr>\n",
       "      <th>0</th>\n",
       "      <td>35178</td>\n",
       "      <td>Male</td>\n",
       "      <td>7.0</td>\n",
       "      <td>0</td>\n",
       "      <td>0</td>\n",
       "      <td>False</td>\n",
       "      <td>children</td>\n",
       "      <td>Urban</td>\n",
       "      <td>98.12</td>\n",
       "      <td>20.4</td>\n",
       "      <td>Unknown</td>\n",
       "      <td>0</td>\n",
       "      <td>0</td>\n",
       "    </tr>\n",
       "    <tr>\n",
       "      <th>1</th>\n",
       "      <td>69355</td>\n",
       "      <td>Male</td>\n",
       "      <td>3.0</td>\n",
       "      <td>0</td>\n",
       "      <td>0</td>\n",
       "      <td>False</td>\n",
       "      <td>children</td>\n",
       "      <td>Rural</td>\n",
       "      <td>86.38</td>\n",
       "      <td>22.8</td>\n",
       "      <td>Unknown</td>\n",
       "      <td>0</td>\n",
       "      <td>0</td>\n",
       "    </tr>\n",
       "    <tr>\n",
       "      <th>2</th>\n",
       "      <td>16587</td>\n",
       "      <td>Female</td>\n",
       "      <td>16.0</td>\n",
       "      <td>0</td>\n",
       "      <td>0</td>\n",
       "      <td>False</td>\n",
       "      <td>Private</td>\n",
       "      <td>Urban</td>\n",
       "      <td>122.26</td>\n",
       "      <td>34.2</td>\n",
       "      <td>never smoked</td>\n",
       "      <td>0</td>\n",
       "      <td>0</td>\n",
       "    </tr>\n",
       "    <tr>\n",
       "      <th>3</th>\n",
       "      <td>39639</td>\n",
       "      <td>Female</td>\n",
       "      <td>46.0</td>\n",
       "      <td>0</td>\n",
       "      <td>0</td>\n",
       "      <td>True</td>\n",
       "      <td>Private</td>\n",
       "      <td>Rural</td>\n",
       "      <td>188.11</td>\n",
       "      <td>50.2</td>\n",
       "      <td>smokes</td>\n",
       "      <td>0</td>\n",
       "      <td>0</td>\n",
       "    </tr>\n",
       "    <tr>\n",
       "      <th>4</th>\n",
       "      <td>48830</td>\n",
       "      <td>Male</td>\n",
       "      <td>30.0</td>\n",
       "      <td>0</td>\n",
       "      <td>0</td>\n",
       "      <td>True</td>\n",
       "      <td>Private</td>\n",
       "      <td>Urban</td>\n",
       "      <td>104.62</td>\n",
       "      <td>33.5</td>\n",
       "      <td>smokes</td>\n",
       "      <td>0</td>\n",
       "      <td>0</td>\n",
       "    </tr>\n",
       "    <tr>\n",
       "      <th>...</th>\n",
       "      <td>...</td>\n",
       "      <td>...</td>\n",
       "      <td>...</td>\n",
       "      <td>...</td>\n",
       "      <td>...</td>\n",
       "      <td>...</td>\n",
       "      <td>...</td>\n",
       "      <td>...</td>\n",
       "      <td>...</td>\n",
       "      <td>...</td>\n",
       "      <td>...</td>\n",
       "      <td>...</td>\n",
       "      <td>...</td>\n",
       "    </tr>\n",
       "    <tr>\n",
       "      <th>4605</th>\n",
       "      <td>69687</td>\n",
       "      <td>Female</td>\n",
       "      <td>18.0</td>\n",
       "      <td>0</td>\n",
       "      <td>0</td>\n",
       "      <td>False</td>\n",
       "      <td>Self-employed</td>\n",
       "      <td>Rural</td>\n",
       "      <td>93.88</td>\n",
       "      <td>22.2</td>\n",
       "      <td>never smoked</td>\n",
       "      <td>0</td>\n",
       "      <td>7</td>\n",
       "    </tr>\n",
       "    <tr>\n",
       "      <th>4606</th>\n",
       "      <td>22952</td>\n",
       "      <td>Female</td>\n",
       "      <td>21.0</td>\n",
       "      <td>0</td>\n",
       "      <td>0</td>\n",
       "      <td>False</td>\n",
       "      <td>Govt_job</td>\n",
       "      <td>Urban</td>\n",
       "      <td>111.61</td>\n",
       "      <td>36.9</td>\n",
       "      <td>smokes</td>\n",
       "      <td>0</td>\n",
       "      <td>7</td>\n",
       "    </tr>\n",
       "    <tr>\n",
       "      <th>4607</th>\n",
       "      <td>2692</td>\n",
       "      <td>Female</td>\n",
       "      <td>80.0</td>\n",
       "      <td>0</td>\n",
       "      <td>0</td>\n",
       "      <td>True</td>\n",
       "      <td>Self-employed</td>\n",
       "      <td>Urban</td>\n",
       "      <td>73.87</td>\n",
       "      <td>33.7</td>\n",
       "      <td>never smoked</td>\n",
       "      <td>0</td>\n",
       "      <td>7</td>\n",
       "    </tr>\n",
       "    <tr>\n",
       "      <th>4608</th>\n",
       "      <td>29077</td>\n",
       "      <td>Female</td>\n",
       "      <td>77.0</td>\n",
       "      <td>0</td>\n",
       "      <td>0</td>\n",
       "      <td>True</td>\n",
       "      <td>Private</td>\n",
       "      <td>Rural</td>\n",
       "      <td>95.10</td>\n",
       "      <td>35.0</td>\n",
       "      <td>never smoked</td>\n",
       "      <td>0</td>\n",
       "      <td>7</td>\n",
       "    </tr>\n",
       "    <tr>\n",
       "      <th>4609</th>\n",
       "      <td>72784</td>\n",
       "      <td>Female</td>\n",
       "      <td>52.0</td>\n",
       "      <td>0</td>\n",
       "      <td>0</td>\n",
       "      <td>True</td>\n",
       "      <td>Private</td>\n",
       "      <td>Rural</td>\n",
       "      <td>118.46</td>\n",
       "      <td>61.6</td>\n",
       "      <td>smokes</td>\n",
       "      <td>0</td>\n",
       "      <td>7</td>\n",
       "    </tr>\n",
       "  </tbody>\n",
       "</table>\n",
       "<p>4610 rows × 13 columns</p>\n",
       "</div>"
      ],
      "text/plain": [
       "         id  gender   age  hypertension  heart_disease  ever_married  \\\n",
       "0     35178    Male   7.0             0              0         False   \n",
       "1     69355    Male   3.0             0              0         False   \n",
       "2     16587  Female  16.0             0              0         False   \n",
       "3     39639  Female  46.0             0              0          True   \n",
       "4     48830    Male  30.0             0              0          True   \n",
       "...     ...     ...   ...           ...            ...           ...   \n",
       "4605  69687  Female  18.0             0              0         False   \n",
       "4606  22952  Female  21.0             0              0         False   \n",
       "4607   2692  Female  80.0             0              0          True   \n",
       "4608  29077  Female  77.0             0              0          True   \n",
       "4609  72784  Female  52.0             0              0          True   \n",
       "\n",
       "          work_type Residence_type  avg_glucose_level   bmi smoking_status  \\\n",
       "0          children          Urban              98.12  20.4        Unknown   \n",
       "1          children          Rural              86.38  22.8        Unknown   \n",
       "2           Private          Urban             122.26  34.2   never smoked   \n",
       "3           Private          Rural             188.11  50.2         smokes   \n",
       "4           Private          Urban             104.62  33.5         smokes   \n",
       "...             ...            ...                ...   ...            ...   \n",
       "4605  Self-employed          Rural              93.88  22.2   never smoked   \n",
       "4606       Govt_job          Urban             111.61  36.9         smokes   \n",
       "4607  Self-employed          Urban              73.87  33.7   never smoked   \n",
       "4608        Private          Rural              95.10  35.0   never smoked   \n",
       "4609        Private          Rural             118.46  61.6         smokes   \n",
       "\n",
       "      stroke  doctor_id  \n",
       "0          0          0  \n",
       "1          0          0  \n",
       "2          0          0  \n",
       "3          0          0  \n",
       "4          0          0  \n",
       "...      ...        ...  \n",
       "4605       0          7  \n",
       "4606       0          7  \n",
       "4607       0          7  \n",
       "4608       0          7  \n",
       "4609       0          7  \n",
       "\n",
       "[4610 rows x 13 columns]"
      ]
     },
     "execution_count": 22,
     "metadata": {},
     "output_type": "execute_result"
    }
   ],
   "source": [
    "train"
   ]
  },
  {
   "cell_type": "code",
   "execution_count": 23,
   "id": "3c73f0f7-d1c4-4e8c-bb6f-462f55a798cc",
   "metadata": {},
   "outputs": [],
   "source": [
    "#now that we have understood the code we could write it in oneline to impress the crowd !!\n",
    "holdout = mydata.loc[mydata.index.isin(holdout_ids)].sample(frac=1, random_state=529).sort_values(\"doctor_id\").reset_index(drop=True)\n",
    "    "
   ]
  },
  {
   "cell_type": "code",
   "execution_count": 24,
   "id": "ba49ef66-529f-40ea-ab36-27faacad4d8d",
   "metadata": {},
   "outputs": [
    {
     "data": {
      "text/html": [
       "<div>\n",
       "<style scoped>\n",
       "    .dataframe tbody tr th:only-of-type {\n",
       "        vertical-align: middle;\n",
       "    }\n",
       "\n",
       "    .dataframe tbody tr th {\n",
       "        vertical-align: top;\n",
       "    }\n",
       "\n",
       "    .dataframe thead th {\n",
       "        text-align: right;\n",
       "    }\n",
       "</style>\n",
       "<table border=\"1\" class=\"dataframe\">\n",
       "  <thead>\n",
       "    <tr style=\"text-align: right;\">\n",
       "      <th></th>\n",
       "      <th>id</th>\n",
       "      <th>gender</th>\n",
       "      <th>age</th>\n",
       "      <th>hypertension</th>\n",
       "      <th>heart_disease</th>\n",
       "      <th>ever_married</th>\n",
       "      <th>work_type</th>\n",
       "      <th>Residence_type</th>\n",
       "      <th>avg_glucose_level</th>\n",
       "      <th>bmi</th>\n",
       "      <th>smoking_status</th>\n",
       "      <th>stroke</th>\n",
       "      <th>doctor_id</th>\n",
       "    </tr>\n",
       "  </thead>\n",
       "  <tbody>\n",
       "    <tr>\n",
       "      <th>0</th>\n",
       "      <td>69160</td>\n",
       "      <td>Male</td>\n",
       "      <td>59.0</td>\n",
       "      <td>0</td>\n",
       "      <td>0</td>\n",
       "      <td>True</td>\n",
       "      <td>Private</td>\n",
       "      <td>Rural</td>\n",
       "      <td>211.78</td>\n",
       "      <td>NaN</td>\n",
       "      <td>formerly smoked</td>\n",
       "      <td>1</td>\n",
       "      <td>0</td>\n",
       "    </tr>\n",
       "    <tr>\n",
       "      <th>1</th>\n",
       "      <td>728</td>\n",
       "      <td>Male</td>\n",
       "      <td>8.0</td>\n",
       "      <td>0</td>\n",
       "      <td>0</td>\n",
       "      <td>False</td>\n",
       "      <td>children</td>\n",
       "      <td>Urban</td>\n",
       "      <td>88.83</td>\n",
       "      <td>18.5</td>\n",
       "      <td>Unknown</td>\n",
       "      <td>0</td>\n",
       "      <td>0</td>\n",
       "    </tr>\n",
       "    <tr>\n",
       "      <th>2</th>\n",
       "      <td>18866</td>\n",
       "      <td>Female</td>\n",
       "      <td>75.0</td>\n",
       "      <td>0</td>\n",
       "      <td>0</td>\n",
       "      <td>True</td>\n",
       "      <td>Self-employed</td>\n",
       "      <td>Urban</td>\n",
       "      <td>96.95</td>\n",
       "      <td>41.4</td>\n",
       "      <td>never smoked</td>\n",
       "      <td>0</td>\n",
       "      <td>0</td>\n",
       "    </tr>\n",
       "    <tr>\n",
       "      <th>3</th>\n",
       "      <td>38284</td>\n",
       "      <td>Male</td>\n",
       "      <td>8.0</td>\n",
       "      <td>0</td>\n",
       "      <td>0</td>\n",
       "      <td>False</td>\n",
       "      <td>children</td>\n",
       "      <td>Rural</td>\n",
       "      <td>77.08</td>\n",
       "      <td>16.9</td>\n",
       "      <td>Unknown</td>\n",
       "      <td>0</td>\n",
       "      <td>0</td>\n",
       "    </tr>\n",
       "    <tr>\n",
       "      <th>4</th>\n",
       "      <td>68224</td>\n",
       "      <td>Male</td>\n",
       "      <td>54.0</td>\n",
       "      <td>0</td>\n",
       "      <td>0</td>\n",
       "      <td>True</td>\n",
       "      <td>Private</td>\n",
       "      <td>Rural</td>\n",
       "      <td>209.50</td>\n",
       "      <td>37.9</td>\n",
       "      <td>formerly smoked</td>\n",
       "      <td>0</td>\n",
       "      <td>0</td>\n",
       "    </tr>\n",
       "    <tr>\n",
       "      <th>...</th>\n",
       "      <td>...</td>\n",
       "      <td>...</td>\n",
       "      <td>...</td>\n",
       "      <td>...</td>\n",
       "      <td>...</td>\n",
       "      <td>...</td>\n",
       "      <td>...</td>\n",
       "      <td>...</td>\n",
       "      <td>...</td>\n",
       "      <td>...</td>\n",
       "      <td>...</td>\n",
       "      <td>...</td>\n",
       "      <td>...</td>\n",
       "    </tr>\n",
       "    <tr>\n",
       "      <th>495</th>\n",
       "      <td>59130</td>\n",
       "      <td>Female</td>\n",
       "      <td>27.0</td>\n",
       "      <td>0</td>\n",
       "      <td>0</td>\n",
       "      <td>False</td>\n",
       "      <td>Private</td>\n",
       "      <td>Rural</td>\n",
       "      <td>226.75</td>\n",
       "      <td>28.9</td>\n",
       "      <td>Unknown</td>\n",
       "      <td>0</td>\n",
       "      <td>7</td>\n",
       "    </tr>\n",
       "    <tr>\n",
       "      <th>496</th>\n",
       "      <td>70845</td>\n",
       "      <td>Male</td>\n",
       "      <td>73.0</td>\n",
       "      <td>0</td>\n",
       "      <td>1</td>\n",
       "      <td>True</td>\n",
       "      <td>Private</td>\n",
       "      <td>Rural</td>\n",
       "      <td>62.44</td>\n",
       "      <td>25.2</td>\n",
       "      <td>smokes</td>\n",
       "      <td>0</td>\n",
       "      <td>7</td>\n",
       "    </tr>\n",
       "    <tr>\n",
       "      <th>497</th>\n",
       "      <td>35432</td>\n",
       "      <td>Female</td>\n",
       "      <td>36.0</td>\n",
       "      <td>0</td>\n",
       "      <td>0</td>\n",
       "      <td>True</td>\n",
       "      <td>Private</td>\n",
       "      <td>Rural</td>\n",
       "      <td>95.36</td>\n",
       "      <td>25.1</td>\n",
       "      <td>never smoked</td>\n",
       "      <td>0</td>\n",
       "      <td>7</td>\n",
       "    </tr>\n",
       "    <tr>\n",
       "      <th>498</th>\n",
       "      <td>32840</td>\n",
       "      <td>Female</td>\n",
       "      <td>52.0</td>\n",
       "      <td>0</td>\n",
       "      <td>0</td>\n",
       "      <td>True</td>\n",
       "      <td>Private</td>\n",
       "      <td>Urban</td>\n",
       "      <td>97.32</td>\n",
       "      <td>21.8</td>\n",
       "      <td>smokes</td>\n",
       "      <td>0</td>\n",
       "      <td>7</td>\n",
       "    </tr>\n",
       "    <tr>\n",
       "      <th>499</th>\n",
       "      <td>48169</td>\n",
       "      <td>Female</td>\n",
       "      <td>61.0</td>\n",
       "      <td>0</td>\n",
       "      <td>0</td>\n",
       "      <td>True</td>\n",
       "      <td>Self-employed</td>\n",
       "      <td>Urban</td>\n",
       "      <td>65.21</td>\n",
       "      <td>27.7</td>\n",
       "      <td>Unknown</td>\n",
       "      <td>0</td>\n",
       "      <td>7</td>\n",
       "    </tr>\n",
       "  </tbody>\n",
       "</table>\n",
       "<p>500 rows × 13 columns</p>\n",
       "</div>"
      ],
      "text/plain": [
       "        id  gender   age  hypertension  heart_disease  ever_married  \\\n",
       "0    69160    Male  59.0             0              0          True   \n",
       "1      728    Male   8.0             0              0         False   \n",
       "2    18866  Female  75.0             0              0          True   \n",
       "3    38284    Male   8.0             0              0         False   \n",
       "4    68224    Male  54.0             0              0          True   \n",
       "..     ...     ...   ...           ...            ...           ...   \n",
       "495  59130  Female  27.0             0              0         False   \n",
       "496  70845    Male  73.0             0              1          True   \n",
       "497  35432  Female  36.0             0              0          True   \n",
       "498  32840  Female  52.0             0              0          True   \n",
       "499  48169  Female  61.0             0              0          True   \n",
       "\n",
       "         work_type Residence_type  avg_glucose_level   bmi   smoking_status  \\\n",
       "0          Private          Rural             211.78   NaN  formerly smoked   \n",
       "1         children          Urban              88.83  18.5          Unknown   \n",
       "2    Self-employed          Urban              96.95  41.4     never smoked   \n",
       "3         children          Rural              77.08  16.9          Unknown   \n",
       "4          Private          Rural             209.50  37.9  formerly smoked   \n",
       "..             ...            ...                ...   ...              ...   \n",
       "495        Private          Rural             226.75  28.9          Unknown   \n",
       "496        Private          Rural              62.44  25.2           smokes   \n",
       "497        Private          Rural              95.36  25.1     never smoked   \n",
       "498        Private          Urban              97.32  21.8           smokes   \n",
       "499  Self-employed          Urban              65.21  27.7          Unknown   \n",
       "\n",
       "     stroke  doctor_id  \n",
       "0         1          0  \n",
       "1         0          0  \n",
       "2         0          0  \n",
       "3         0          0  \n",
       "4         0          0  \n",
       "..      ...        ...  \n",
       "495       0          7  \n",
       "496       0          7  \n",
       "497       0          7  \n",
       "498       0          7  \n",
       "499       0          7  \n",
       "\n",
       "[500 rows x 13 columns]"
      ]
     },
     "execution_count": 24,
     "metadata": {},
     "output_type": "execute_result"
    }
   ],
   "source": [
    "holdout"
   ]
  },
  {
   "cell_type": "code",
   "execution_count": 25,
   "id": "484eb58f-8a56-4323-a6d5-f9f3a29c4a8f",
   "metadata": {
    "tags": []
   },
   "outputs": [
    {
     "data": {
      "text/plain": [
       "'\\ndef get_X_y(train):\\n    FEATURES = [\\n        \"gender\",\\n        \"age\",\\n        \"hypertension\",\\n        \"heart_disease\",\\n        \"ever_married\",\\n        \"work_type\",\\n        \"Residence_type\",\\n        \"avg_glucose_level\",\\n        \"bmi\",\\n        \"smoking_status\",\\n    ]\\n\\n    GROUPS = \"doctor_id\"\\n\\n    TARGET = \"stroke\"\\n\\n    X = train[FEATURES]\\n    y = train[TARGET]\\n    groups = train[GROUPS]\\n    return X, y, groups\\n'"
      ]
     },
     "execution_count": 25,
     "metadata": {},
     "output_type": "execute_result"
    }
   ],
   "source": [
    "#DELETE  \n",
    "\"\"\"\n",
    "def get_X_y(train):\n",
    "    FEATURES = [\n",
    "        \"gender\",\n",
    "        \"age\",\n",
    "        \"hypertension\",\n",
    "        \"heart_disease\",\n",
    "        \"ever_married\",\n",
    "        \"work_type\",\n",
    "        \"Residence_type\",\n",
    "        \"avg_glucose_level\",\n",
    "        \"bmi\",\n",
    "        \"smoking_status\",\n",
    "    ]\n",
    "\n",
    "    GROUPS = \"doctor_id\"\n",
    "\n",
    "    TARGET = \"stroke\"\n",
    "\n",
    "    X = train[FEATURES]\n",
    "    y = train[TARGET]\n",
    "    groups = train[GROUPS]\n",
    "    return X, y, groups\n",
    "\"\"\""
   ]
  },
  {
   "cell_type": "code",
   "execution_count": 26,
   "id": "f189cba5-bbbc-4230-8430-dbd7e08011d6",
   "metadata": {},
   "outputs": [],
   "source": [
    "#X, y, groups = get_X_y(train)"
   ]
  },
  {
   "cell_type": "code",
   "execution_count": 27,
   "id": "20083656-6d51-4de2-ae29-8cec6258d63a",
   "metadata": {},
   "outputs": [],
   "source": [
    "#a better and smoother one is this:"
   ]
  },
  {
   "cell_type": "code",
   "execution_count": 28,
   "id": "5cbb4bbd-b1f2-4686-8def-f12e795b980e",
   "metadata": {},
   "outputs": [],
   "source": [
    "y_train = train.pop('stroke')\n",
    "groups = train['doctor_id']"
   ]
  },
  {
   "cell_type": "code",
   "execution_count": 29,
   "id": "ee572f8b-e765-4486-9c7c-5a1772027a25",
   "metadata": {},
   "outputs": [
    {
     "data": {
      "text/plain": [
       "0       0\n",
       "1       0\n",
       "2       0\n",
       "3       0\n",
       "4       0\n",
       "       ..\n",
       "4605    0\n",
       "4606    0\n",
       "4607    0\n",
       "4608    0\n",
       "4609    0\n",
       "Name: stroke, Length: 4610, dtype: int64"
      ]
     },
     "execution_count": 29,
     "metadata": {},
     "output_type": "execute_result"
    }
   ],
   "source": [
    "y_train"
   ]
  },
  {
   "cell_type": "code",
   "execution_count": 30,
   "id": "d62fe5dd-8c30-48f2-a391-6dc52faac372",
   "metadata": {},
   "outputs": [
    {
     "data": {
      "text/plain": [
       "0       0\n",
       "1       0\n",
       "2       0\n",
       "3       0\n",
       "4       0\n",
       "       ..\n",
       "4605    7\n",
       "4606    7\n",
       "4607    7\n",
       "4608    7\n",
       "4609    7\n",
       "Name: doctor_id, Length: 4610, dtype: int32"
      ]
     },
     "execution_count": 30,
     "metadata": {},
     "output_type": "execute_result"
    }
   ],
   "source": [
    "groups"
   ]
  },
  {
   "cell_type": "code",
   "execution_count": 31,
   "id": "c5954e35-19e9-4c84-9d20-82fb3dba177b",
   "metadata": {},
   "outputs": [
    {
     "data": {
      "text/html": [
       "<div>\n",
       "<style scoped>\n",
       "    .dataframe tbody tr th:only-of-type {\n",
       "        vertical-align: middle;\n",
       "    }\n",
       "\n",
       "    .dataframe tbody tr th {\n",
       "        vertical-align: top;\n",
       "    }\n",
       "\n",
       "    .dataframe thead th {\n",
       "        text-align: right;\n",
       "    }\n",
       "</style>\n",
       "<table border=\"1\" class=\"dataframe\">\n",
       "  <thead>\n",
       "    <tr style=\"text-align: right;\">\n",
       "      <th></th>\n",
       "      <th>id</th>\n",
       "      <th>gender</th>\n",
       "      <th>age</th>\n",
       "      <th>hypertension</th>\n",
       "      <th>heart_disease</th>\n",
       "      <th>ever_married</th>\n",
       "      <th>work_type</th>\n",
       "      <th>Residence_type</th>\n",
       "      <th>avg_glucose_level</th>\n",
       "      <th>bmi</th>\n",
       "      <th>smoking_status</th>\n",
       "      <th>doctor_id</th>\n",
       "    </tr>\n",
       "  </thead>\n",
       "  <tbody>\n",
       "    <tr>\n",
       "      <th>0</th>\n",
       "      <td>35178</td>\n",
       "      <td>Male</td>\n",
       "      <td>7.0</td>\n",
       "      <td>0</td>\n",
       "      <td>0</td>\n",
       "      <td>False</td>\n",
       "      <td>children</td>\n",
       "      <td>Urban</td>\n",
       "      <td>98.12</td>\n",
       "      <td>20.4</td>\n",
       "      <td>Unknown</td>\n",
       "      <td>0</td>\n",
       "    </tr>\n",
       "    <tr>\n",
       "      <th>1</th>\n",
       "      <td>69355</td>\n",
       "      <td>Male</td>\n",
       "      <td>3.0</td>\n",
       "      <td>0</td>\n",
       "      <td>0</td>\n",
       "      <td>False</td>\n",
       "      <td>children</td>\n",
       "      <td>Rural</td>\n",
       "      <td>86.38</td>\n",
       "      <td>22.8</td>\n",
       "      <td>Unknown</td>\n",
       "      <td>0</td>\n",
       "    </tr>\n",
       "    <tr>\n",
       "      <th>2</th>\n",
       "      <td>16587</td>\n",
       "      <td>Female</td>\n",
       "      <td>16.0</td>\n",
       "      <td>0</td>\n",
       "      <td>0</td>\n",
       "      <td>False</td>\n",
       "      <td>Private</td>\n",
       "      <td>Urban</td>\n",
       "      <td>122.26</td>\n",
       "      <td>34.2</td>\n",
       "      <td>never smoked</td>\n",
       "      <td>0</td>\n",
       "    </tr>\n",
       "    <tr>\n",
       "      <th>3</th>\n",
       "      <td>39639</td>\n",
       "      <td>Female</td>\n",
       "      <td>46.0</td>\n",
       "      <td>0</td>\n",
       "      <td>0</td>\n",
       "      <td>True</td>\n",
       "      <td>Private</td>\n",
       "      <td>Rural</td>\n",
       "      <td>188.11</td>\n",
       "      <td>50.2</td>\n",
       "      <td>smokes</td>\n",
       "      <td>0</td>\n",
       "    </tr>\n",
       "    <tr>\n",
       "      <th>4</th>\n",
       "      <td>48830</td>\n",
       "      <td>Male</td>\n",
       "      <td>30.0</td>\n",
       "      <td>0</td>\n",
       "      <td>0</td>\n",
       "      <td>True</td>\n",
       "      <td>Private</td>\n",
       "      <td>Urban</td>\n",
       "      <td>104.62</td>\n",
       "      <td>33.5</td>\n",
       "      <td>smokes</td>\n",
       "      <td>0</td>\n",
       "    </tr>\n",
       "    <tr>\n",
       "      <th>...</th>\n",
       "      <td>...</td>\n",
       "      <td>...</td>\n",
       "      <td>...</td>\n",
       "      <td>...</td>\n",
       "      <td>...</td>\n",
       "      <td>...</td>\n",
       "      <td>...</td>\n",
       "      <td>...</td>\n",
       "      <td>...</td>\n",
       "      <td>...</td>\n",
       "      <td>...</td>\n",
       "      <td>...</td>\n",
       "    </tr>\n",
       "    <tr>\n",
       "      <th>4605</th>\n",
       "      <td>69687</td>\n",
       "      <td>Female</td>\n",
       "      <td>18.0</td>\n",
       "      <td>0</td>\n",
       "      <td>0</td>\n",
       "      <td>False</td>\n",
       "      <td>Self-employed</td>\n",
       "      <td>Rural</td>\n",
       "      <td>93.88</td>\n",
       "      <td>22.2</td>\n",
       "      <td>never smoked</td>\n",
       "      <td>7</td>\n",
       "    </tr>\n",
       "    <tr>\n",
       "      <th>4606</th>\n",
       "      <td>22952</td>\n",
       "      <td>Female</td>\n",
       "      <td>21.0</td>\n",
       "      <td>0</td>\n",
       "      <td>0</td>\n",
       "      <td>False</td>\n",
       "      <td>Govt_job</td>\n",
       "      <td>Urban</td>\n",
       "      <td>111.61</td>\n",
       "      <td>36.9</td>\n",
       "      <td>smokes</td>\n",
       "      <td>7</td>\n",
       "    </tr>\n",
       "    <tr>\n",
       "      <th>4607</th>\n",
       "      <td>2692</td>\n",
       "      <td>Female</td>\n",
       "      <td>80.0</td>\n",
       "      <td>0</td>\n",
       "      <td>0</td>\n",
       "      <td>True</td>\n",
       "      <td>Self-employed</td>\n",
       "      <td>Urban</td>\n",
       "      <td>73.87</td>\n",
       "      <td>33.7</td>\n",
       "      <td>never smoked</td>\n",
       "      <td>7</td>\n",
       "    </tr>\n",
       "    <tr>\n",
       "      <th>4608</th>\n",
       "      <td>29077</td>\n",
       "      <td>Female</td>\n",
       "      <td>77.0</td>\n",
       "      <td>0</td>\n",
       "      <td>0</td>\n",
       "      <td>True</td>\n",
       "      <td>Private</td>\n",
       "      <td>Rural</td>\n",
       "      <td>95.10</td>\n",
       "      <td>35.0</td>\n",
       "      <td>never smoked</td>\n",
       "      <td>7</td>\n",
       "    </tr>\n",
       "    <tr>\n",
       "      <th>4609</th>\n",
       "      <td>72784</td>\n",
       "      <td>Female</td>\n",
       "      <td>52.0</td>\n",
       "      <td>0</td>\n",
       "      <td>0</td>\n",
       "      <td>True</td>\n",
       "      <td>Private</td>\n",
       "      <td>Rural</td>\n",
       "      <td>118.46</td>\n",
       "      <td>61.6</td>\n",
       "      <td>smokes</td>\n",
       "      <td>7</td>\n",
       "    </tr>\n",
       "  </tbody>\n",
       "</table>\n",
       "<p>4610 rows × 12 columns</p>\n",
       "</div>"
      ],
      "text/plain": [
       "         id  gender   age  hypertension  heart_disease  ever_married  \\\n",
       "0     35178    Male   7.0             0              0         False   \n",
       "1     69355    Male   3.0             0              0         False   \n",
       "2     16587  Female  16.0             0              0         False   \n",
       "3     39639  Female  46.0             0              0          True   \n",
       "4     48830    Male  30.0             0              0          True   \n",
       "...     ...     ...   ...           ...            ...           ...   \n",
       "4605  69687  Female  18.0             0              0         False   \n",
       "4606  22952  Female  21.0             0              0         False   \n",
       "4607   2692  Female  80.0             0              0          True   \n",
       "4608  29077  Female  77.0             0              0          True   \n",
       "4609  72784  Female  52.0             0              0          True   \n",
       "\n",
       "          work_type Residence_type  avg_glucose_level   bmi smoking_status  \\\n",
       "0          children          Urban              98.12  20.4        Unknown   \n",
       "1          children          Rural              86.38  22.8        Unknown   \n",
       "2           Private          Urban             122.26  34.2   never smoked   \n",
       "3           Private          Rural             188.11  50.2         smokes   \n",
       "4           Private          Urban             104.62  33.5         smokes   \n",
       "...             ...            ...                ...   ...            ...   \n",
       "4605  Self-employed          Rural              93.88  22.2   never smoked   \n",
       "4606       Govt_job          Urban             111.61  36.9         smokes   \n",
       "4607  Self-employed          Urban              73.87  33.7   never smoked   \n",
       "4608        Private          Rural              95.10  35.0   never smoked   \n",
       "4609        Private          Rural             118.46  61.6         smokes   \n",
       "\n",
       "      doctor_id  \n",
       "0             0  \n",
       "1             0  \n",
       "2             0  \n",
       "3             0  \n",
       "4             0  \n",
       "...         ...  \n",
       "4605          7  \n",
       "4606          7  \n",
       "4607          7  \n",
       "4608          7  \n",
       "4609          7  \n",
       "\n",
       "[4610 rows x 12 columns]"
      ]
     },
     "execution_count": 31,
     "metadata": {},
     "output_type": "execute_result"
    }
   ],
   "source": [
    "train"
   ]
  },
  {
   "cell_type": "code",
   "execution_count": 32,
   "id": "a3c93f22-afd5-4952-ac9c-5c64a6a871ab",
   "metadata": {},
   "outputs": [],
   "source": [
    "#better names for the variables are:\n",
    "xTrain = train\n",
    "yTrain =y_train\n",
    "groupsTrain =groups"
   ]
  },
  {
   "cell_type": "code",
   "execution_count": 33,
   "id": "1fee5620-d964-4767-bb5f-fe35b48e5d0d",
   "metadata": {},
   "outputs": [],
   "source": [
    "machineLIGHTGBM = lightgbm.LGBMClassifier(n_estimators=100)#our model using lightgmb classifier\n",
    "#i like to call the training models machines , of course you can choose something better than this"
   ]
  },
  {
   "cell_type": "code",
   "execution_count": 34,
   "id": "64182d08-cb48-4d3d-80ce-dfd9da72f8fa",
   "metadata": {},
   "outputs": [
    {
     "data": {
      "text/plain": [
       "LGBMClassifier()"
      ]
     },
     "execution_count": 34,
     "metadata": {},
     "output_type": "execute_result"
    }
   ],
   "source": [
    "#its very simple to train it:\n",
    "machineLIGHTGBM.fit(xTrain,yTrain)"
   ]
  },
  {
   "cell_type": "code",
   "execution_count": 35,
   "id": "8d7d1716-6016-4d88-b217-1fc1ecac76ab",
   "metadata": {},
   "outputs": [],
   "source": [
    "#now the predictons\n",
    "#1st lets look at  the predict method which gives us 0-1 values \n",
    "predictions = machineLIGHTGBM.predict(xTrain)"
   ]
  },
  {
   "cell_type": "code",
   "execution_count": 36,
   "id": "700ce4e1-1e95-4b7a-b9c7-0dfbe4bb3a0b",
   "metadata": {},
   "outputs": [
    {
     "data": {
      "text/plain": [
       "array([0, 0, 0, ..., 0, 0, 0], dtype=int64)"
      ]
     },
     "execution_count": 36,
     "metadata": {},
     "output_type": "execute_result"
    }
   ],
   "source": [
    "predictions"
   ]
  },
  {
   "cell_type": "code",
   "execution_count": 37,
   "id": "70ec2a86-ac12-4c54-8106-577d388c16a5",
   "metadata": {},
   "outputs": [
    {
     "data": {
      "text/plain": [
       "4610"
      ]
     },
     "execution_count": 37,
     "metadata": {},
     "output_type": "execute_result"
    }
   ],
   "source": [
    "len(predictions)"
   ]
  },
  {
   "cell_type": "code",
   "execution_count": 38,
   "id": "d9d0b6e8-3ffb-4608-b1d8-522947e6f33a",
   "metadata": {},
   "outputs": [],
   "source": [
    "#for i in predictions:           #NO NEED to do this, believe me its a banch of zeros and aces(0,1)\n",
    "#    print(i)"
   ]
  },
  {
   "cell_type": "code",
   "execution_count": 39,
   "id": "dd9e0711-db9f-4893-be0e-8c2495caf613",
   "metadata": {},
   "outputs": [],
   "source": [
    "#but we can also ask for probabilites of 0-1 by using the method predict_proba\n",
    "predictionsProbabilites = machineLIGHTGBM.predict_proba(xTrain)"
   ]
  },
  {
   "cell_type": "code",
   "execution_count": 40,
   "id": "c74db65e-571e-4eb9-9538-89d3538fb995",
   "metadata": {},
   "outputs": [
    {
     "data": {
      "text/plain": [
       "array([[9.99956064e-01, 4.39362087e-05],\n",
       "       [9.99968359e-01, 3.16411568e-05],\n",
       "       [9.99909837e-01, 9.01630471e-05],\n",
       "       ...,\n",
       "       [9.25220341e-01, 7.47796594e-02],\n",
       "       [9.82906573e-01, 1.70934273e-02],\n",
       "       [9.98692376e-01, 1.30762360e-03]])"
      ]
     },
     "execution_count": 40,
     "metadata": {},
     "output_type": "execute_result"
    }
   ],
   "source": [
    "predictionsProbabilites\n",
    "#first value = 0 probabilty and the second one is the 1 probability\n",
    "#1=stroke (reminder)"
   ]
  },
  {
   "cell_type": "code",
   "execution_count": 41,
   "id": "66d78784-ca16-477c-a744-2dd7d02c87eb",
   "metadata": {},
   "outputs": [],
   "source": [
    "#we could also keep only the column with the probability to have a stroke\n",
    "strokeProbability = predictionsProbabilites[:, 1]"
   ]
  },
  {
   "cell_type": "code",
   "execution_count": 42,
   "id": "73d1badb-ca62-481c-9e28-c6f29d257815",
   "metadata": {},
   "outputs": [
    {
     "data": {
      "text/plain": [
       "array([4.39362087e-05, 3.16411568e-05, 9.01630471e-05, ...,\n",
       "       7.47796594e-02, 1.70934273e-02, 1.30762360e-03])"
      ]
     },
     "execution_count": 42,
     "metadata": {},
     "output_type": "execute_result"
    }
   ],
   "source": [
    "strokeProbability"
   ]
  },
  {
   "cell_type": "code",
   "execution_count": 43,
   "id": "15a51d49-38bf-42ba-8f22-c734a7de1f96",
   "metadata": {},
   "outputs": [],
   "source": [
    "#help:    1.88019638e-02 = 0.0188019638   (move the comma(,) left , as many times as the negative power of e)\n",
    "#so the first person has a 0.018 possibility to have a stroke , \n",
    "#if we run the predict method this would be a zero(0)"
   ]
  },
  {
   "cell_type": "code",
   "execution_count": 44,
   "id": "1caf4f6f-81be-48e4-8931-8151f3a4410b",
   "metadata": {},
   "outputs": [],
   "source": [
    "accScore = sklearn.metrics.accuracy_score(yTrain, predictions)"
   ]
  },
  {
   "cell_type": "code",
   "execution_count": 45,
   "id": "60859a07-4805-4f09-9839-40e829ef284d",
   "metadata": {},
   "outputs": [
    {
     "data": {
      "text/plain": [
       "0.9978308026030369"
      ]
     },
     "execution_count": 45,
     "metadata": {},
     "output_type": "execute_result"
    }
   ],
   "source": [
    "accScore #superb score !! its very rare to see that rate of accuracy"
   ]
  },
  {
   "cell_type": "code",
   "execution_count": 46,
   "id": "0ba750ee-2a3a-48e3-82b9-00ce9f8c9c4f",
   "metadata": {},
   "outputs": [],
   "source": [
    "metrics = sklearn.metrics.confusion_matrix(yTrain,predictions)"
   ]
  },
  {
   "cell_type": "code",
   "execution_count": 47,
   "id": "2f0e95b0-cf8e-406d-8140-f530e71b57fb",
   "metadata": {},
   "outputs": [
    {
     "data": {
      "text/plain": [
       "array([[4387,    0],\n",
       "       [  10,  213]], dtype=int64)"
      ]
     },
     "execution_count": 47,
     "metadata": {},
     "output_type": "execute_result"
    }
   ],
   "source": [
    "metrics"
   ]
  },
  {
   "cell_type": "code",
   "execution_count": 48,
   "id": "5ce22063-4c59-4106-8b21-59417886d9b2",
   "metadata": {},
   "outputs": [],
   "source": [
    "#check confusion matrix image first \n",
    "#4387 = the machine predicted (0) and the actual value was (0)\n",
    "#11 = tha machine predicted (0) and the actual value was(1)\n",
    "#0 = the machine predicted (1) and the actual values was (0)\n",
    "#212 = the machine predicted (1) and the actual value was (1)"
   ]
  },
  {
   "cell_type": "code",
   "execution_count": 49,
   "id": "64da241a-f07f-44fd-81a4-31b3870060d7",
   "metadata": {},
   "outputs": [],
   "source": [
    "aucScore = sklearn.metrics.roc_auc_score(yTrain ,strokeProbability)\n",
    "#important : to use this metric we need the stroke probability and not the predictionsProbabilities which has two values \n",
    "#auc = area under the curve(google it if you want to know more about this statistic value (or gpt it :D))\n",
    "#its similar to accuracy for probabilites"
   ]
  },
  {
   "cell_type": "code",
   "execution_count": 50,
   "id": "daab590f-1cb1-4c27-a69c-228190783240",
   "metadata": {},
   "outputs": [
    {
     "data": {
      "text/plain": [
       "1.0"
      ]
     },
     "execution_count": 50,
     "metadata": {},
     "output_type": "execute_result"
    }
   ],
   "source": [
    "aucScore"
   ]
  },
  {
   "cell_type": "markdown",
   "id": "350c5978-6ffd-45ae-a0c2-e3b9eaad9607",
   "metadata": {},
   "source": [
    "Amazing accuracy rates!!!  ... ... ... are they ? "
   ]
  },
  {
   "cell_type": "code",
   "execution_count": 51,
   "id": "30659293-32c1-4788-84d5-57fb7fe71902",
   "metadata": {},
   "outputs": [],
   "source": [
    "#lets check now the holdout set(test set)"
   ]
  },
  {
   "cell_type": "code",
   "execution_count": 52,
   "id": "2af4a378-9365-47a3-8950-cee193fff11f",
   "metadata": {},
   "outputs": [
    {
     "data": {
      "text/html": [
       "<div>\n",
       "<style scoped>\n",
       "    .dataframe tbody tr th:only-of-type {\n",
       "        vertical-align: middle;\n",
       "    }\n",
       "\n",
       "    .dataframe tbody tr th {\n",
       "        vertical-align: top;\n",
       "    }\n",
       "\n",
       "    .dataframe thead th {\n",
       "        text-align: right;\n",
       "    }\n",
       "</style>\n",
       "<table border=\"1\" class=\"dataframe\">\n",
       "  <thead>\n",
       "    <tr style=\"text-align: right;\">\n",
       "      <th></th>\n",
       "      <th>id</th>\n",
       "      <th>gender</th>\n",
       "      <th>age</th>\n",
       "      <th>hypertension</th>\n",
       "      <th>heart_disease</th>\n",
       "      <th>ever_married</th>\n",
       "      <th>work_type</th>\n",
       "      <th>Residence_type</th>\n",
       "      <th>avg_glucose_level</th>\n",
       "      <th>bmi</th>\n",
       "      <th>smoking_status</th>\n",
       "      <th>stroke</th>\n",
       "      <th>doctor_id</th>\n",
       "    </tr>\n",
       "  </thead>\n",
       "  <tbody>\n",
       "    <tr>\n",
       "      <th>0</th>\n",
       "      <td>69160</td>\n",
       "      <td>Male</td>\n",
       "      <td>59.0</td>\n",
       "      <td>0</td>\n",
       "      <td>0</td>\n",
       "      <td>True</td>\n",
       "      <td>Private</td>\n",
       "      <td>Rural</td>\n",
       "      <td>211.78</td>\n",
       "      <td>NaN</td>\n",
       "      <td>formerly smoked</td>\n",
       "      <td>1</td>\n",
       "      <td>0</td>\n",
       "    </tr>\n",
       "    <tr>\n",
       "      <th>1</th>\n",
       "      <td>728</td>\n",
       "      <td>Male</td>\n",
       "      <td>8.0</td>\n",
       "      <td>0</td>\n",
       "      <td>0</td>\n",
       "      <td>False</td>\n",
       "      <td>children</td>\n",
       "      <td>Urban</td>\n",
       "      <td>88.83</td>\n",
       "      <td>18.5</td>\n",
       "      <td>Unknown</td>\n",
       "      <td>0</td>\n",
       "      <td>0</td>\n",
       "    </tr>\n",
       "    <tr>\n",
       "      <th>2</th>\n",
       "      <td>18866</td>\n",
       "      <td>Female</td>\n",
       "      <td>75.0</td>\n",
       "      <td>0</td>\n",
       "      <td>0</td>\n",
       "      <td>True</td>\n",
       "      <td>Self-employed</td>\n",
       "      <td>Urban</td>\n",
       "      <td>96.95</td>\n",
       "      <td>41.4</td>\n",
       "      <td>never smoked</td>\n",
       "      <td>0</td>\n",
       "      <td>0</td>\n",
       "    </tr>\n",
       "    <tr>\n",
       "      <th>3</th>\n",
       "      <td>38284</td>\n",
       "      <td>Male</td>\n",
       "      <td>8.0</td>\n",
       "      <td>0</td>\n",
       "      <td>0</td>\n",
       "      <td>False</td>\n",
       "      <td>children</td>\n",
       "      <td>Rural</td>\n",
       "      <td>77.08</td>\n",
       "      <td>16.9</td>\n",
       "      <td>Unknown</td>\n",
       "      <td>0</td>\n",
       "      <td>0</td>\n",
       "    </tr>\n",
       "    <tr>\n",
       "      <th>4</th>\n",
       "      <td>68224</td>\n",
       "      <td>Male</td>\n",
       "      <td>54.0</td>\n",
       "      <td>0</td>\n",
       "      <td>0</td>\n",
       "      <td>True</td>\n",
       "      <td>Private</td>\n",
       "      <td>Rural</td>\n",
       "      <td>209.50</td>\n",
       "      <td>37.9</td>\n",
       "      <td>formerly smoked</td>\n",
       "      <td>0</td>\n",
       "      <td>0</td>\n",
       "    </tr>\n",
       "    <tr>\n",
       "      <th>...</th>\n",
       "      <td>...</td>\n",
       "      <td>...</td>\n",
       "      <td>...</td>\n",
       "      <td>...</td>\n",
       "      <td>...</td>\n",
       "      <td>...</td>\n",
       "      <td>...</td>\n",
       "      <td>...</td>\n",
       "      <td>...</td>\n",
       "      <td>...</td>\n",
       "      <td>...</td>\n",
       "      <td>...</td>\n",
       "      <td>...</td>\n",
       "    </tr>\n",
       "    <tr>\n",
       "      <th>495</th>\n",
       "      <td>59130</td>\n",
       "      <td>Female</td>\n",
       "      <td>27.0</td>\n",
       "      <td>0</td>\n",
       "      <td>0</td>\n",
       "      <td>False</td>\n",
       "      <td>Private</td>\n",
       "      <td>Rural</td>\n",
       "      <td>226.75</td>\n",
       "      <td>28.9</td>\n",
       "      <td>Unknown</td>\n",
       "      <td>0</td>\n",
       "      <td>7</td>\n",
       "    </tr>\n",
       "    <tr>\n",
       "      <th>496</th>\n",
       "      <td>70845</td>\n",
       "      <td>Male</td>\n",
       "      <td>73.0</td>\n",
       "      <td>0</td>\n",
       "      <td>1</td>\n",
       "      <td>True</td>\n",
       "      <td>Private</td>\n",
       "      <td>Rural</td>\n",
       "      <td>62.44</td>\n",
       "      <td>25.2</td>\n",
       "      <td>smokes</td>\n",
       "      <td>0</td>\n",
       "      <td>7</td>\n",
       "    </tr>\n",
       "    <tr>\n",
       "      <th>497</th>\n",
       "      <td>35432</td>\n",
       "      <td>Female</td>\n",
       "      <td>36.0</td>\n",
       "      <td>0</td>\n",
       "      <td>0</td>\n",
       "      <td>True</td>\n",
       "      <td>Private</td>\n",
       "      <td>Rural</td>\n",
       "      <td>95.36</td>\n",
       "      <td>25.1</td>\n",
       "      <td>never smoked</td>\n",
       "      <td>0</td>\n",
       "      <td>7</td>\n",
       "    </tr>\n",
       "    <tr>\n",
       "      <th>498</th>\n",
       "      <td>32840</td>\n",
       "      <td>Female</td>\n",
       "      <td>52.0</td>\n",
       "      <td>0</td>\n",
       "      <td>0</td>\n",
       "      <td>True</td>\n",
       "      <td>Private</td>\n",
       "      <td>Urban</td>\n",
       "      <td>97.32</td>\n",
       "      <td>21.8</td>\n",
       "      <td>smokes</td>\n",
       "      <td>0</td>\n",
       "      <td>7</td>\n",
       "    </tr>\n",
       "    <tr>\n",
       "      <th>499</th>\n",
       "      <td>48169</td>\n",
       "      <td>Female</td>\n",
       "      <td>61.0</td>\n",
       "      <td>0</td>\n",
       "      <td>0</td>\n",
       "      <td>True</td>\n",
       "      <td>Self-employed</td>\n",
       "      <td>Urban</td>\n",
       "      <td>65.21</td>\n",
       "      <td>27.7</td>\n",
       "      <td>Unknown</td>\n",
       "      <td>0</td>\n",
       "      <td>7</td>\n",
       "    </tr>\n",
       "  </tbody>\n",
       "</table>\n",
       "<p>500 rows × 13 columns</p>\n",
       "</div>"
      ],
      "text/plain": [
       "        id  gender   age  hypertension  heart_disease  ever_married  \\\n",
       "0    69160    Male  59.0             0              0          True   \n",
       "1      728    Male   8.0             0              0         False   \n",
       "2    18866  Female  75.0             0              0          True   \n",
       "3    38284    Male   8.0             0              0         False   \n",
       "4    68224    Male  54.0             0              0          True   \n",
       "..     ...     ...   ...           ...            ...           ...   \n",
       "495  59130  Female  27.0             0              0         False   \n",
       "496  70845    Male  73.0             0              1          True   \n",
       "497  35432  Female  36.0             0              0          True   \n",
       "498  32840  Female  52.0             0              0          True   \n",
       "499  48169  Female  61.0             0              0          True   \n",
       "\n",
       "         work_type Residence_type  avg_glucose_level   bmi   smoking_status  \\\n",
       "0          Private          Rural             211.78   NaN  formerly smoked   \n",
       "1         children          Urban              88.83  18.5          Unknown   \n",
       "2    Self-employed          Urban              96.95  41.4     never smoked   \n",
       "3         children          Rural              77.08  16.9          Unknown   \n",
       "4          Private          Rural             209.50  37.9  formerly smoked   \n",
       "..             ...            ...                ...   ...              ...   \n",
       "495        Private          Rural             226.75  28.9          Unknown   \n",
       "496        Private          Rural              62.44  25.2           smokes   \n",
       "497        Private          Rural              95.36  25.1     never smoked   \n",
       "498        Private          Urban              97.32  21.8           smokes   \n",
       "499  Self-employed          Urban              65.21  27.7          Unknown   \n",
       "\n",
       "     stroke  doctor_id  \n",
       "0         1          0  \n",
       "1         0          0  \n",
       "2         0          0  \n",
       "3         0          0  \n",
       "4         0          0  \n",
       "..      ...        ...  \n",
       "495       0          7  \n",
       "496       0          7  \n",
       "497       0          7  \n",
       "498       0          7  \n",
       "499       0          7  \n",
       "\n",
       "[500 rows x 13 columns]"
      ]
     },
     "execution_count": 52,
     "metadata": {},
     "output_type": "execute_result"
    }
   ],
   "source": [
    "holdout #lets say it test\n",
    "testSet = holdout\n",
    "testSet"
   ]
  },
  {
   "cell_type": "code",
   "execution_count": 53,
   "id": "bb8c19b6-04ea-4483-af73-9c203bc3c493",
   "metadata": {},
   "outputs": [],
   "source": [
    "yTest=testSet.pop('stroke')"
   ]
  },
  {
   "cell_type": "code",
   "execution_count": 54,
   "id": "c44ea1e2-045b-4d44-8b55-7e4281de182b",
   "metadata": {},
   "outputs": [
    {
     "data": {
      "text/html": [
       "<div>\n",
       "<style scoped>\n",
       "    .dataframe tbody tr th:only-of-type {\n",
       "        vertical-align: middle;\n",
       "    }\n",
       "\n",
       "    .dataframe tbody tr th {\n",
       "        vertical-align: top;\n",
       "    }\n",
       "\n",
       "    .dataframe thead th {\n",
       "        text-align: right;\n",
       "    }\n",
       "</style>\n",
       "<table border=\"1\" class=\"dataframe\">\n",
       "  <thead>\n",
       "    <tr style=\"text-align: right;\">\n",
       "      <th></th>\n",
       "      <th>id</th>\n",
       "      <th>gender</th>\n",
       "      <th>age</th>\n",
       "      <th>hypertension</th>\n",
       "      <th>heart_disease</th>\n",
       "      <th>ever_married</th>\n",
       "      <th>work_type</th>\n",
       "      <th>Residence_type</th>\n",
       "      <th>avg_glucose_level</th>\n",
       "      <th>bmi</th>\n",
       "      <th>smoking_status</th>\n",
       "      <th>doctor_id</th>\n",
       "    </tr>\n",
       "  </thead>\n",
       "  <tbody>\n",
       "    <tr>\n",
       "      <th>0</th>\n",
       "      <td>69160</td>\n",
       "      <td>Male</td>\n",
       "      <td>59.0</td>\n",
       "      <td>0</td>\n",
       "      <td>0</td>\n",
       "      <td>True</td>\n",
       "      <td>Private</td>\n",
       "      <td>Rural</td>\n",
       "      <td>211.78</td>\n",
       "      <td>NaN</td>\n",
       "      <td>formerly smoked</td>\n",
       "      <td>0</td>\n",
       "    </tr>\n",
       "    <tr>\n",
       "      <th>1</th>\n",
       "      <td>728</td>\n",
       "      <td>Male</td>\n",
       "      <td>8.0</td>\n",
       "      <td>0</td>\n",
       "      <td>0</td>\n",
       "      <td>False</td>\n",
       "      <td>children</td>\n",
       "      <td>Urban</td>\n",
       "      <td>88.83</td>\n",
       "      <td>18.5</td>\n",
       "      <td>Unknown</td>\n",
       "      <td>0</td>\n",
       "    </tr>\n",
       "    <tr>\n",
       "      <th>2</th>\n",
       "      <td>18866</td>\n",
       "      <td>Female</td>\n",
       "      <td>75.0</td>\n",
       "      <td>0</td>\n",
       "      <td>0</td>\n",
       "      <td>True</td>\n",
       "      <td>Self-employed</td>\n",
       "      <td>Urban</td>\n",
       "      <td>96.95</td>\n",
       "      <td>41.4</td>\n",
       "      <td>never smoked</td>\n",
       "      <td>0</td>\n",
       "    </tr>\n",
       "    <tr>\n",
       "      <th>3</th>\n",
       "      <td>38284</td>\n",
       "      <td>Male</td>\n",
       "      <td>8.0</td>\n",
       "      <td>0</td>\n",
       "      <td>0</td>\n",
       "      <td>False</td>\n",
       "      <td>children</td>\n",
       "      <td>Rural</td>\n",
       "      <td>77.08</td>\n",
       "      <td>16.9</td>\n",
       "      <td>Unknown</td>\n",
       "      <td>0</td>\n",
       "    </tr>\n",
       "    <tr>\n",
       "      <th>4</th>\n",
       "      <td>68224</td>\n",
       "      <td>Male</td>\n",
       "      <td>54.0</td>\n",
       "      <td>0</td>\n",
       "      <td>0</td>\n",
       "      <td>True</td>\n",
       "      <td>Private</td>\n",
       "      <td>Rural</td>\n",
       "      <td>209.50</td>\n",
       "      <td>37.9</td>\n",
       "      <td>formerly smoked</td>\n",
       "      <td>0</td>\n",
       "    </tr>\n",
       "    <tr>\n",
       "      <th>...</th>\n",
       "      <td>...</td>\n",
       "      <td>...</td>\n",
       "      <td>...</td>\n",
       "      <td>...</td>\n",
       "      <td>...</td>\n",
       "      <td>...</td>\n",
       "      <td>...</td>\n",
       "      <td>...</td>\n",
       "      <td>...</td>\n",
       "      <td>...</td>\n",
       "      <td>...</td>\n",
       "      <td>...</td>\n",
       "    </tr>\n",
       "    <tr>\n",
       "      <th>495</th>\n",
       "      <td>59130</td>\n",
       "      <td>Female</td>\n",
       "      <td>27.0</td>\n",
       "      <td>0</td>\n",
       "      <td>0</td>\n",
       "      <td>False</td>\n",
       "      <td>Private</td>\n",
       "      <td>Rural</td>\n",
       "      <td>226.75</td>\n",
       "      <td>28.9</td>\n",
       "      <td>Unknown</td>\n",
       "      <td>7</td>\n",
       "    </tr>\n",
       "    <tr>\n",
       "      <th>496</th>\n",
       "      <td>70845</td>\n",
       "      <td>Male</td>\n",
       "      <td>73.0</td>\n",
       "      <td>0</td>\n",
       "      <td>1</td>\n",
       "      <td>True</td>\n",
       "      <td>Private</td>\n",
       "      <td>Rural</td>\n",
       "      <td>62.44</td>\n",
       "      <td>25.2</td>\n",
       "      <td>smokes</td>\n",
       "      <td>7</td>\n",
       "    </tr>\n",
       "    <tr>\n",
       "      <th>497</th>\n",
       "      <td>35432</td>\n",
       "      <td>Female</td>\n",
       "      <td>36.0</td>\n",
       "      <td>0</td>\n",
       "      <td>0</td>\n",
       "      <td>True</td>\n",
       "      <td>Private</td>\n",
       "      <td>Rural</td>\n",
       "      <td>95.36</td>\n",
       "      <td>25.1</td>\n",
       "      <td>never smoked</td>\n",
       "      <td>7</td>\n",
       "    </tr>\n",
       "    <tr>\n",
       "      <th>498</th>\n",
       "      <td>32840</td>\n",
       "      <td>Female</td>\n",
       "      <td>52.0</td>\n",
       "      <td>0</td>\n",
       "      <td>0</td>\n",
       "      <td>True</td>\n",
       "      <td>Private</td>\n",
       "      <td>Urban</td>\n",
       "      <td>97.32</td>\n",
       "      <td>21.8</td>\n",
       "      <td>smokes</td>\n",
       "      <td>7</td>\n",
       "    </tr>\n",
       "    <tr>\n",
       "      <th>499</th>\n",
       "      <td>48169</td>\n",
       "      <td>Female</td>\n",
       "      <td>61.0</td>\n",
       "      <td>0</td>\n",
       "      <td>0</td>\n",
       "      <td>True</td>\n",
       "      <td>Self-employed</td>\n",
       "      <td>Urban</td>\n",
       "      <td>65.21</td>\n",
       "      <td>27.7</td>\n",
       "      <td>Unknown</td>\n",
       "      <td>7</td>\n",
       "    </tr>\n",
       "  </tbody>\n",
       "</table>\n",
       "<p>500 rows × 12 columns</p>\n",
       "</div>"
      ],
      "text/plain": [
       "        id  gender   age  hypertension  heart_disease  ever_married  \\\n",
       "0    69160    Male  59.0             0              0          True   \n",
       "1      728    Male   8.0             0              0         False   \n",
       "2    18866  Female  75.0             0              0          True   \n",
       "3    38284    Male   8.0             0              0         False   \n",
       "4    68224    Male  54.0             0              0          True   \n",
       "..     ...     ...   ...           ...            ...           ...   \n",
       "495  59130  Female  27.0             0              0         False   \n",
       "496  70845    Male  73.0             0              1          True   \n",
       "497  35432  Female  36.0             0              0          True   \n",
       "498  32840  Female  52.0             0              0          True   \n",
       "499  48169  Female  61.0             0              0          True   \n",
       "\n",
       "         work_type Residence_type  avg_glucose_level   bmi   smoking_status  \\\n",
       "0          Private          Rural             211.78   NaN  formerly smoked   \n",
       "1         children          Urban              88.83  18.5          Unknown   \n",
       "2    Self-employed          Urban              96.95  41.4     never smoked   \n",
       "3         children          Rural              77.08  16.9          Unknown   \n",
       "4          Private          Rural             209.50  37.9  formerly smoked   \n",
       "..             ...            ...                ...   ...              ...   \n",
       "495        Private          Rural             226.75  28.9          Unknown   \n",
       "496        Private          Rural              62.44  25.2           smokes   \n",
       "497        Private          Rural              95.36  25.1     never smoked   \n",
       "498        Private          Urban              97.32  21.8           smokes   \n",
       "499  Self-employed          Urban              65.21  27.7          Unknown   \n",
       "\n",
       "     doctor_id  \n",
       "0            0  \n",
       "1            0  \n",
       "2            0  \n",
       "3            0  \n",
       "4            0  \n",
       "..         ...  \n",
       "495          7  \n",
       "496          7  \n",
       "497          7  \n",
       "498          7  \n",
       "499          7  \n",
       "\n",
       "[500 rows x 12 columns]"
      ]
     },
     "execution_count": 54,
     "metadata": {},
     "output_type": "execute_result"
    }
   ],
   "source": [
    "xTest=testSet\n",
    "yTest\n",
    "testSet"
   ]
  },
  {
   "cell_type": "code",
   "execution_count": 55,
   "id": "1943d68e-47fc-4c88-9f2f-53b1590e7913",
   "metadata": {},
   "outputs": [],
   "source": [
    "predictions2 = machineLIGHTGBM.predict(xTest)\n",
    "predictionsProbabilites2=machineLIGHTGBM.predict_proba(xTest)\n",
    "strokeProbability2 = predictionsProbabilites2[:, 1]\n",
    "\n",
    "\n",
    "accScore2 = sklearn.metrics.accuracy_score(yTest, predictions2)\n",
    "aucScore2 = sklearn.metrics.roc_auc_score(yTest, strokeProbability2)"
   ]
  },
  {
   "cell_type": "code",
   "execution_count": 56,
   "id": "2939b33f-4e2f-448d-9d2a-d81c1af695f6",
   "metadata": {},
   "outputs": [
    {
     "data": {
      "text/plain": [
       "0.95"
      ]
     },
     "execution_count": 56,
     "metadata": {},
     "output_type": "execute_result"
    }
   ],
   "source": [
    "accScore2"
   ]
  },
  {
   "cell_type": "code",
   "execution_count": 57,
   "id": "2fc58caf-3d5d-4bd2-a72f-eb5d21276948",
   "metadata": {},
   "outputs": [
    {
     "data": {
      "text/plain": [
       "0.7830249918857514"
      ]
     },
     "execution_count": 57,
     "metadata": {},
     "output_type": "execute_result"
    }
   ],
   "source": [
    "aucScore2"
   ]
  },
  {
   "cell_type": "code",
   "execution_count": 58,
   "id": "05648765-9441-4e9e-8467-0d951224a255",
   "metadata": {},
   "outputs": [],
   "source": [
    "#hmmmm no more 99s right?"
   ]
  },
  {
   "cell_type": "code",
   "execution_count": 59,
   "id": "ad219fb6-937b-43c8-86ab-f4999dd3dcf7",
   "metadata": {},
   "outputs": [],
   "source": [
    "mymetrics = sklearn.metrics.classification_report(yTest,predictions2)"
   ]
  },
  {
   "cell_type": "code",
   "execution_count": 60,
   "id": "cb6de558-7f0d-44fc-a13f-071c3eede4ef",
   "metadata": {},
   "outputs": [
    {
     "name": "stdout",
     "output_type": "stream",
     "text": [
      "              precision    recall  f1-score   support\n",
      "\n",
      "           0       0.95      1.00      0.97       474\n",
      "           1       0.60      0.12      0.19        26\n",
      "\n",
      "    accuracy                           0.95       500\n",
      "   macro avg       0.78      0.56      0.58       500\n",
      "weighted avg       0.94      0.95      0.93       500\n",
      "\n"
     ]
    }
   ],
   "source": [
    "print(mymetrics)"
   ]
  },
  {
   "cell_type": "code",
   "execution_count": 61,
   "id": "c2452793-0354-4641-9722-244caa95c1bd",
   "metadata": {},
   "outputs": [
    {
     "data": {
      "text/plain": [
       "0    474\n",
       "1     26\n",
       "Name: stroke, dtype: int64"
      ]
     },
     "execution_count": 61,
     "metadata": {},
     "output_type": "execute_result"
    }
   ],
   "source": [
    "yTest.value_counts()\n",
    "#we have to check the set to understand what is going on\n",
    "#the set is not balanced  , the most prices are ZEROS"
   ]
  },
  {
   "cell_type": "code",
   "execution_count": 62,
   "id": "cd92c2a4-f295-414f-b0eb-113b8b04f24b",
   "metadata": {},
   "outputs": [],
   "source": [
    "#so lets predict only zeros to see our accuracy\n",
    "accScoreZERO = sklearn.metrics.accuracy_score(yTest, numpy.zeros_like(yTest))\n",
    "aucScoreZERO = sklearn.metrics.roc_auc_score(yTest, numpy.zeros_like(yTest))\n",
    "#numpy.zeros_like(yTest) creates an numpy arrray with len=len(yTest) with zeros"
   ]
  },
  {
   "cell_type": "code",
   "execution_count": 65,
   "id": "abea56a6-c7d3-44d9-9496-53790a826cb6",
   "metadata": {},
   "outputs": [
    {
     "data": {
      "text/plain": [
       "0.948"
      ]
     },
     "execution_count": 65,
     "metadata": {},
     "output_type": "execute_result"
    }
   ],
   "source": [
    "accScoreZERO"
   ]
  },
  {
   "cell_type": "code",
   "execution_count": 66,
   "id": "917016be-5907-4220-a405-ff210e95734a",
   "metadata": {},
   "outputs": [
    {
     "data": {
      "text/plain": [
       "0.5"
      ]
     },
     "execution_count": 66,
     "metadata": {},
     "output_type": "execute_result"
    }
   ],
   "source": [
    "aucScoreZERO"
   ]
  },
  {
   "cell_type": "code",
   "execution_count": 71,
   "id": "7a855792-83e4-4365-b0b8-9dfc75b4e04f",
   "metadata": {},
   "outputs": [],
   "source": [
    "#not bad !! :D :D: :D \n",
    "#coin flipping possibilities"
   ]
  },
  {
   "cell_type": "code",
   "execution_count": 72,
   "id": "7066ad31-5dcc-4daf-ad67-0323f47da159",
   "metadata": {},
   "outputs": [],
   "source": [
    "#lets try to fix the model \n",
    "#first of all we have to perform a proper train-test split to our data(our train data)"
   ]
  },
  {
   "cell_type": "code",
   "execution_count": 73,
   "id": "4ab4aadd-40b5-4923-9459-7f723d4adb53",
   "metadata": {},
   "outputs": [],
   "source": [
    "X_train, X_test, y_train, y_test = sklearn.model_selection.train_test_split(xTrain , yTrain , test_size=0.1)#10% of our data will be the test set"
   ]
  },
  {
   "cell_type": "code",
   "execution_count": 74,
   "id": "4fedd655-0838-48c8-827d-fa1a7560252a",
   "metadata": {},
   "outputs": [],
   "source": [
    "machineLIGHTGBM = lightgbm.LGBMClassifier(n_estimators=100,max_depth=3)#max depth = "
   ]
  },
  {
   "cell_type": "code",
   "execution_count": 75,
   "id": "873fbcae-add3-43ed-a6d3-9860f3cb46b4",
   "metadata": {},
   "outputs": [
    {
     "data": {
      "text/plain": [
       "LGBMClassifier(max_depth=3)"
      ]
     },
     "execution_count": 75,
     "metadata": {},
     "output_type": "execute_result"
    }
   ],
   "source": [
    "machineLIGHTGBM.fit(X_train,y_train) #training the  model"
   ]
  },
  {
   "cell_type": "code",
   "execution_count": 76,
   "id": "6b852f65-96fc-4abc-b0d7-5d8cdc3ea05b",
   "metadata": {},
   "outputs": [],
   "source": [
    "predictions3 = machineLIGHTGBM.predict(X_test)"
   ]
  },
  {
   "cell_type": "code",
   "execution_count": 77,
   "id": "c7a443c6-9833-4033-b5f0-40c9ffb9e2c1",
   "metadata": {},
   "outputs": [],
   "source": [
    "predictionsProbabilites3 = machineLIGHTGBM.predict_proba(X_test)[:,1] #one line this time (no stroke probability)"
   ]
  },
  {
   "cell_type": "code",
   "execution_count": 78,
   "id": "288c2662-65d3-4f56-892a-6ab92887369f",
   "metadata": {},
   "outputs": [
    {
     "data": {
      "text/plain": [
       "0.9479392624728851"
      ]
     },
     "execution_count": 78,
     "metadata": {},
     "output_type": "execute_result"
    }
   ],
   "source": [
    "accScore3 = sklearn.metrics.accuracy_score(y_test,predictions3)\n",
    "accScore3"
   ]
  },
  {
   "cell_type": "code",
   "execution_count": 79,
   "id": "cba3c9af-cabb-4b36-b6c8-bf1385796c54",
   "metadata": {},
   "outputs": [
    {
     "data": {
      "text/plain": [
       "0.7909992372234935"
      ]
     },
     "execution_count": 79,
     "metadata": {},
     "output_type": "execute_result"
    }
   ],
   "source": [
    "aucScore3  =sklearn.metrics.roc_auc_score(y_test,predictionsProbabilites3)\n",
    "aucScore3"
   ]
  },
  {
   "cell_type": "markdown",
   "id": "d5a3eaa3-db3d-4a65-a99b-e73f404807e4",
   "metadata": {},
   "source": [
    "# CROSS VALIDATION\n",
    "CV provides the ability to estimate model performance on unseen data not used while training."
   ]
  },
  {
   "cell_type": "markdown",
   "id": "d0c8b5fe-4148-4016-98a7-8429b7c4ad64",
   "metadata": {},
   "source": [
    "some theory first , there are several cross validation methos :\n",
    "1)KFold , kanei train test split alla oxi mono mia fora. oses fores tou poume , opote exoume polla diaforetika splits tou dataset\n",
    "2)Stratified KFold idio pragma alla prospathei to train kai to test split na einai balanced. px min einai to ena set mono me midenika\n",
    "poli xrisimo otan to arxiko dataset einai unbalanced\n",
    "3)Group KFold , paromoio me ta proigoumena kai to protimame otan iparxoun groups sta data\n",
    "px se emas group einai to id tou giatrou(exoume 8 groups ena gia kathe giatro). me to GRoyupKFold to modelo den ephreazetai stis problepseis tou\n",
    "apo ayta ta groups(sinithos ta krataei ola mazi eite sto trainig eite sto test set wste na mhn einai biased)\n",
    "4)Stratified Group KFold. sindiasmos twn 2 kai 3\n",
    "\n",
    "There are more like TimeSeriesSplit but its pretty much uselles to our DataSet so we will cover them in another project"
   ]
  },
  {
   "cell_type": "code",
   "execution_count": 80,
   "id": "55e7fe3e-f350-4cb0-be5d-6eaeccb0d201",
   "metadata": {},
   "outputs": [],
   "source": [
    "#the cell below is for the visualization of the graphic plots of the Cross Validation \n",
    "#dont mess with it\n",
    "#the code is taken from here :\n",
    "#https://scikit-learn.org/stable/auto_examples/model_selection/plot_cv_indices.html#sphx-glr-auto-examples-model-selection-plot-cv-indices-py"
   ]
  },
  {
   "cell_type": "code",
   "execution_count": 81,
   "id": "9812a36d-8e30-484e-99e5-e4c8ce4e1760",
   "metadata": {
    "jupyter": {
     "source_hidden": true
    },
    "tags": []
   },
   "outputs": [],
   "source": [
    "#kane ola ta nympy kai ta matplotlib\n",
    "import matplotlib.pyplot as plt\n",
    "import numpy as np\n",
    "from matplotlib.patches import Patch\n",
    "cmap_data = plt.cm.Paired\n",
    "cmap_cv = plt.cm.coolwarm\n",
    "\n",
    "def visualize_groups(classes, groups, name):\n",
    "    # Visualize dataset groups\n",
    "    fig, ax = plt.subplots()\n",
    "    ax.scatter(\n",
    "        range(len(groups)),\n",
    "        [0.5] * len(groups),\n",
    "        c=groups,\n",
    "        marker=\"_\",\n",
    "        lw=50,\n",
    "        cmap=cmap_data,\n",
    "    )\n",
    "    ax.scatter(\n",
    "        range(len(groups)),\n",
    "        [3.5] * len(groups),\n",
    "        c=classes,\n",
    "        marker=\"_\",\n",
    "        lw=50,\n",
    "        cmap=cmap_data,\n",
    "    )\n",
    "    ax.set(\n",
    "        ylim=[-1, 5],\n",
    "        yticks=[0.5, 3.5],\n",
    "        yticklabels=[\"Data\\ngroup\", \"Data\\nclass\"],\n",
    "        xlabel=\"Sample index\",\n",
    "    )\n",
    "\n",
    "\n",
    "def plot_cv_indices(cv, X, y, group, ax, n_splits, lw=25):\n",
    "    \"\"\"Create a sample plot for indices of a cross-validation object.\"\"\"\n",
    "\n",
    "    # Generate the training/testing visualizations for each CV split\n",
    "    for ii, (tr, tt) in enumerate(cv.split(X=X, y=y, groups=group)):\n",
    "        # Fill in indices with the training/test groups\n",
    "        indices = np.array([np.nan] * len(X))\n",
    "        indices[tt] = 1\n",
    "        indices[tr] = 0\n",
    "\n",
    "        # Visualize the results\n",
    "        ax.scatter(\n",
    "            range(len(indices)),\n",
    "            [ii + 0.5] * len(indices),\n",
    "            c=indices,\n",
    "            marker=\"_\",\n",
    "            lw=lw,\n",
    "            cmap=cmap_cv,\n",
    "            vmin=-0.2,\n",
    "            vmax=1.2,\n",
    "        )\n",
    "\n",
    "    # Plot the data classes and groups at the end\n",
    "    ax.scatter(\n",
    "        range(len(X)), [ii + 1.5] * len(X), c=y, marker=\"_\", lw=lw, cmap=cmap_data\n",
    "    )\n",
    "\n",
    "    ax.scatter(\n",
    "        range(len(X)), [ii + 2.5] * len(X), c=group, marker=\"_\", lw=lw, cmap=cmap_data\n",
    "    )\n",
    "\n",
    "    # Formatting\n",
    "    yticklabels = list(range(n_splits)) + [\"class\", \"group\"]\n",
    "    ax.set(\n",
    "        yticks=np.arange(n_splits + 2) + 0.5,\n",
    "        yticklabels=yticklabels,\n",
    "        xlabel=\"Sample index\",\n",
    "        ylabel=\"CV iteration\",\n",
    "        ylim=[n_splits + 2.2, -0.2],\n",
    "        xlim=[0, 100],\n",
    "    )\n",
    "    ax.set_title(\"{}\".format(type(cv).__name__), fontsize=15)\n",
    "    return ax\n",
    "\n",
    "\n",
    "def plot_cv(cv, X, y, groups, n_splits=5):\n",
    "    this_cv = cv(n_splits=n_splits)\n",
    "    fig, ax = plt.subplots(figsize=(15, 5))\n",
    "    plot_cv_indices(this_cv, X, y, groups, ax, n_splits)\n",
    "\n",
    "    ax.legend(\n",
    "        [Patch(color=cmap_cv(0.8)), Patch(color=cmap_cv(0.02))],\n",
    "        [\"Testing set\", \"Training set\"],\n",
    "        loc=(1.02, 0.8),\n",
    "    )\n",
    "    plt.tight_layout()\n",
    "    fig.subplots_adjust(right=0.7)\n",
    "    plt.show()\n",
    "    \n",
    "def get_fake_X_y():\n",
    "    # Fake Generate the class/group data for an example\n",
    "    n_points = 100\n",
    "    X_ = np.random.randn(100, 10)\n",
    "\n",
    "    percentiles_classes = [0.1, 0.9]\n",
    "    y_ = np.hstack([[ii] * int(100 * perc) for ii, perc in enumerate(percentiles_classes)])\n",
    "\n",
    "    # Evenly spaced groups repeated once\n",
    "    groups_ = np.hstack([[ii] * 10 for ii in range(10)])\n",
    "    return X_, y_, groups_"
   ]
  },
  {
   "cell_type": "markdown",
   "id": "04db7e39-c708-408d-8c7c-75ec1dc9d6e2",
   "metadata": {},
   "source": [
    "here is a visual presentation of the Cross Validation methods we talked about : "
   ]
  },
  {
   "cell_type": "code",
   "execution_count": 82,
   "id": "6e9a7880-b012-4950-932c-ba8585d045d1",
   "metadata": {},
   "outputs": [
    {
     "data": {
      "image/png": "[encoded data removed]",
      "text/plain": [
       "<Figure size 1500x500 with 1 Axes>"
      ]
     },
     "metadata": {},
     "output_type": "display_data"
    }
   ],
   "source": [
    "kf = sklearn.model_selection.KFold()\n",
    "X_, y_, groups_ = get_fake_X_y()\n",
    "plot_cv(sklearn.model_selection.KFold, X_, y_, groups_)"
   ]
  },
  {
   "cell_type": "code",
   "execution_count": 83,
   "id": "915b4550-fadd-4e38-bbf6-41f7d29fbfea",
   "metadata": {},
   "outputs": [
    {
     "data": {
      "image/png": "[encoded data removed]",
      "text/plain": [
       "<Figure size 1500x500 with 1 Axes>"
      ]
     },
     "metadata": {},
     "output_type": "display_data"
    }
   ],
   "source": [
    "skf = sklearn.model_selection.StratifiedKFold()\n",
    "X_, y_, groups_ = get_fake_X_y()\n",
    "plot_cv(sklearn.model_selection.StratifiedKFold, X_, y_, groups_)"
   ]
  },
  {
   "cell_type": "code",
   "execution_count": 84,
   "id": "0e462391-abdd-4607-9134-44078ca5034c",
   "metadata": {},
   "outputs": [
    {
     "data": {
      "image/png": "[encoded data removed]",
      "text/plain": [
       "<Figure size 1500x500 with 1 Axes>"
      ]
     },
     "metadata": {},
     "output_type": "display_data"
    }
   ],
   "source": [
    "gkf = sklearn.model_selection.GroupKFold()\n",
    "X_, y_, groups_ = get_fake_X_y()\n",
    "plot_cv(sklearn.model_selection.GroupKFold, X_, y_, groups_)"
   ]
  },
  {
   "cell_type": "code",
   "execution_count": 85,
   "id": "f4b6eae2-f026-487b-8e22-9cb09a41257b",
   "metadata": {},
   "outputs": [
    {
     "data": {
      "image/png": "[encoded data removed]",
      "text/plain": [
       "<Figure size 1500x500 with 1 Axes>"
      ]
     },
     "metadata": {},
     "output_type": "display_data"
    }
   ],
   "source": [
    "gskf = sklearn.model_selection.StratifiedGroupKFold()\n",
    "X_, y_, groups_ = get_fake_X_y()\n",
    "np.random.shuffle(y_)\n",
    "plot_cv(sklearn.model_selection.StratifiedGroupKFold, X_, y_, groups_)"
   ]
  },
  {
   "cell_type": "code",
   "execution_count": null,
   "id": "744d813b-f88e-4e9f-8a4e-ca052f1bc0fc",
   "metadata": {},
   "outputs": [],
   "source": []
  },
  {
   "cell_type": "code",
   "execution_count": 86,
   "id": "c0e55947-3f72-4d38-bb9b-26ffc15b3ce2",
   "metadata": {},
   "outputs": [],
   "source": [
    "#Now lets pick the best method for our dataset.\n",
    "#As i always say the hardest part of data analysis and machine learnign is to deeply understand your dataset\n",
    "#our dataset is pretty small , unbalanced and has groups(well it doesnt but we added them with the doctor id column) \n",
    "\n",
    "#so the winner is : StratifiedGroupFold"
   ]
  },
  {
   "cell_type": "code",
   "execution_count": 87,
   "id": "d0a579ff-c9ff-4cc2-96a9-e2573cef1fa4",
   "metadata": {},
   "outputs": [],
   "source": [
    "machinceSGK = sklearn.model_selection.StratifiedGroupKFold(n_splits=5, shuffle=True, random_state=529)\n",
    "#n_splits the number of  splits we are going to perform (5 is always a good one to pick)\n",
    "#Shuffling? sure why not? its not gonna melt"
   ]
  },
  {
   "cell_type": "code",
   "execution_count": 88,
   "id": "c35304fa-4727-4507-9295-07e6e2f9ab51",
   "metadata": {},
   "outputs": [],
   "source": [
    "#xTrain\n",
    "#yTrain\n",
    "#groups"
   ]
  },
  {
   "cell_type": "code",
   "execution_count": 89,
   "id": "e615c064-7ed7-49d7-8990-d27617b21685",
   "metadata": {},
   "outputs": [
    {
     "data": {
      "text/plain": [
       "<generator object _BaseKFold.split at 0x0000016EAE5EB120>"
      ]
     },
     "execution_count": 89,
     "metadata": {},
     "output_type": "execute_result"
    }
   ],
   "source": [
    "machinceSGK.split(xTrain, yTrain, groups)#this is doing the split\n",
    "#the output is indexes. gives us which indexes are for train sets and which for the test set"
   ]
  },
  {
   "cell_type": "code",
   "execution_count": 90,
   "id": "17db9061-c217-4c59-81e5-4e249ad05c62",
   "metadata": {},
   "outputs": [],
   "source": [
    "#trexw prwta to palio modelo gia to xyTEST Set"
   ]
  },
  {
   "cell_type": "code",
   "execution_count": 91,
   "id": "bf4686a3-3647-4c1e-bb47-04bc7a0e852d",
   "metadata": {},
   "outputs": [],
   "source": [
    "machineLGBMC1_5 = lightgbm.LGBMClassifier(n_estimators=100)\n",
    "machineLGBMC1_5.fit(xTrain, yTrain)\n",
    "predictions = machineLGBMC1_5.predict(xTest)\n",
    "predictionsProbabilites= machineLGBMC1_5.predict_proba(xTest)[:, 1]\n",
    "acc_score1_5 = sklearn.metrics.accuracy_score(yTest, predictions)\n",
    "auc_score1_5 = sklearn.metrics.roc_auc_score(yTest, predictionsProbabilites)"
   ]
  },
  {
   "cell_type": "code",
   "execution_count": 92,
   "id": "39754f57-2cff-4290-b10b-459ad56916d3",
   "metadata": {},
   "outputs": [
    {
     "data": {
      "text/plain": [
       "0.95"
      ]
     },
     "execution_count": 92,
     "metadata": {},
     "output_type": "execute_result"
    }
   ],
   "source": [
    "acc_score1_5"
   ]
  },
  {
   "cell_type": "code",
   "execution_count": 93,
   "id": "77180b2b-4821-4628-af6c-242ab942d1a8",
   "metadata": {},
   "outputs": [
    {
     "data": {
      "text/plain": [
       "0.7830249918857514"
      ]
     },
     "execution_count": 93,
     "metadata": {},
     "output_type": "execute_result"
    }
   ],
   "source": [
    "auc_score1_5"
   ]
  },
  {
   "cell_type": "code",
   "execution_count": null,
   "id": "ff109918-f63c-477b-9f43-9cf34d6b18dd",
   "metadata": {},
   "outputs": [],
   "source": []
  },
  {
   "cell_type": "code",
   "execution_count": 94,
   "id": "56ebf116-2885-42cd-9b66-954ef6e7849b",
   "metadata": {},
   "outputs": [
    {
     "name": "stdout",
     "output_type": "stream",
     "text": [
      "======= Fold 1 ========\n",
      "Our accuracy on the validation set is 0.9439 and AUC is 0.8244\n",
      "======= Fold 2 ========\n",
      "Our accuracy on the validation set is 0.9565 and AUC is 0.8350\n",
      "======= Fold 3 ========\n",
      "Our accuracy on the validation set is 0.9486 and AUC is 0.8026\n",
      "======= Fold 4 ========\n",
      "Our accuracy on the validation set is 0.9411 and AUC is 0.8266\n",
      "======= Fold 5 ========\n",
      "Our accuracy on the validation set is 0.9503 and AUC is 0.8965\n",
      "Our out of fold AUC score is 0.8370\n",
      "Our out of fold ACC score is 0.9481\n"
     ]
    }
   ],
   "source": [
    "#to use it properly:\n",
    "#everything will be putted in a for loop \n",
    "\n",
    "\n",
    "\n",
    "rep = 1\n",
    "aucs = []\n",
    "acc = []\n",
    "for train_index, val_index in machinceSGK.split(xTrain, yTrain, groups):#one for every split (5 in total)\n",
    "    X_tr = xTrain.loc[train_index]\n",
    "    y_tr = yTrain.loc[train_index]\n",
    "    \n",
    "    X_val = xTrain.loc[val_index]\n",
    "    y_val = yTrain.loc[val_index]\n",
    "\n",
    "    # Fit Model on Train\n",
    "    #print(X_tr)\n",
    "    machineLGBMC = lightgbm.LGBMClassifier(n_estimators=100)\n",
    "    machineLGBMC.fit(X_tr, y_tr)\n",
    "    predictions = machineLGBMC.predict(X_val)\n",
    "    predictionsProbabilites= machineLGBMC.predict_proba(X_val)[:, 1]\n",
    "    acc_score = sklearn.metrics.accuracy_score(y_val, predictions)\n",
    "    auc_score = sklearn.metrics.roc_auc_score(y_val, predictionsProbabilites)\n",
    "    print(f\"======= Fold {rep} ========\")\n",
    "    print(\n",
    "        f\"Our accuracy on the validation set is {acc_score:0.4f} and AUC is {auc_score:0.4f}\"\n",
    "    )\n",
    "    rep=rep+1\n",
    "    aucs.append(auc_score)\n",
    "    acc.append(acc_score)\n",
    "aucMean = np.mean(aucs)\n",
    "accMean = np.mean(acc)\n",
    "print(f'Our out of fold AUC score is {aucMean:0.4f}')\n",
    "print(f'Our out of fold ACC score is {accMean:0.4f}')\n"
   ]
  },
  {
   "cell_type": "code",
   "execution_count": 95,
   "id": "2d627d5b-88c4-4085-b1c2-c8781ce0b224",
   "metadata": {},
   "outputs": [],
   "source": [
    "#now these metrics are much more accurate! "
   ]
  },
  {
   "cell_type": "code",
   "execution_count": 96,
   "id": "0a101b6b-fe4d-496e-a562-b77029f59776",
   "metadata": {},
   "outputs": [],
   "source": [
    "#now lets test our model again for the evaluation set "
   ]
  },
  {
   "cell_type": "code",
   "execution_count": 97,
   "id": "980f3e97-c932-4e13-9081-44f3de2ca2f5",
   "metadata": {},
   "outputs": [],
   "source": [
    "#xTest=xTest.drop(['id','doctor_id'],axis=1)\n",
    "#to kanw auto giati kai to sklearn.model_selection.StratifiedGroupKFold petaei ta id kai ta doctor id\n",
    "#checkare to print mesa sto for loop na deis oti ontws to kanei\n",
    "predictions = machineLGBMC.predict(xTest)\n",
    "predictionsProbabilites= machineLGBMC.predict_proba(xTest)[:, 1]\n",
    "acc_score = sklearn.metrics.accuracy_score(yTest, predictions)\n",
    "auc_score = sklearn.metrics.roc_auc_score(yTest, predictionsProbabilites)"
   ]
  },
  {
   "cell_type": "code",
   "execution_count": 98,
   "id": "a10f3e22-c50d-487d-8f91-539efd3a45ec",
   "metadata": {},
   "outputs": [
    {
     "data": {
      "text/plain": [
       "0.946"
      ]
     },
     "execution_count": 98,
     "metadata": {},
     "output_type": "execute_result"
    }
   ],
   "source": [
    "acc_score"
   ]
  },
  {
   "cell_type": "code",
   "execution_count": 96,
   "id": "40022ec4-7d9c-45da-9a8d-bf6f61046eff",
   "metadata": {},
   "outputs": [
    {
     "data": {
      "text/plain": [
       "0.7581953911067836"
      ]
     },
     "execution_count": 96,
     "metadata": {},
     "output_type": "execute_result"
    }
   ],
   "source": [
    "auc_score"
   ]
  },
  {
   "cell_type": "code",
   "execution_count": null,
   "id": "16422f1b-91a5-4dca-9506-3477e48dba14",
   "metadata": {},
   "outputs": [],
   "source": []
  },
  {
   "cell_type": "code",
   "execution_count": 99,
   "id": "8cc3adc5-712e-464c-9e7d-4a15b28837d9",
   "metadata": {},
   "outputs": [],
   "source": [
    "#new machine"
   ]
  },
  {
   "cell_type": "code",
   "execution_count": 100,
   "id": "dc80c2a2-eeff-4f4a-9074-5929ff6798ad",
   "metadata": {},
   "outputs": [],
   "source": [
    "machineLGBMC2 = lightgbm.LGBMClassifier(n_estimators=100)\n",
    "machineLGBMC2.fit(xTrain, yTrain)\n",
    "predictions = machineLGBMC2.predict(xTest)\n",
    "predictionsProbabilites= machineLGBMC2.predict_proba(xTest)[:, 1]\n",
    "acc_score2 = sklearn.metrics.accuracy_score(yTest, predictions)\n",
    "auc_score2 = sklearn.metrics.roc_auc_score(yTest, predictionsProbabilites)"
   ]
  },
  {
   "cell_type": "code",
   "execution_count": 101,
   "id": "b432aa08-541e-486a-a6ad-e927003a40fd",
   "metadata": {},
   "outputs": [
    {
     "data": {
      "text/plain": [
       "0.95"
      ]
     },
     "execution_count": 101,
     "metadata": {},
     "output_type": "execute_result"
    }
   ],
   "source": [
    "acc_score2"
   ]
  },
  {
   "cell_type": "code",
   "execution_count": 102,
   "id": "3535779c-753d-474a-bb25-fa645689aae1",
   "metadata": {},
   "outputs": [
    {
     "data": {
      "text/plain": [
       "0.7830249918857514"
      ]
     },
     "execution_count": 102,
     "metadata": {},
     "output_type": "execute_result"
    }
   ],
   "source": [
    "auc_score2"
   ]
  },
  {
   "cell_type": "code",
   "execution_count": null,
   "id": "1e6c9847-342d-43f7-bde7-7b86716f2ff6",
   "metadata": {},
   "outputs": [],
   "source": []
  }
 ],
 "metadata": {
  "kernelspec": {
   "display_name": "Python 3 (ipykernel)",
   "language": "python",
   "name": "python3"
  },
  "language_info": {
   "codemirror_mode": {
    "name": "ipython",
    "version": 3
   },
   "file_extension": ".py",
   "mimetype": "text/x-python",
   "name": "python",
   "nbconvert_exporter": "python",
   "pygments_lexer": "ipython3",
   "version": "3.9.13"
  }
 },
 "nbformat": 4,
 "nbformat_minor": 5
}
